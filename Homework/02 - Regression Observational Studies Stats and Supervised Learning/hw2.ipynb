{
 "cells": [
  {
   "cell_type": "markdown",
   "metadata": {},
   "source": [
    "# Homework 2 (HW2)\n",
    "\n",
    "---\n",
    "By the end of this homework we expect you to be able to:\n",
    "1. Preprocess data and make it amenable to statistical analysis and machine learning models;\n",
    "2. Train and test out-of-the-box machine learning models in Python;\n",
    "3. Carry out statistical hypothesis testing;\n",
    "4. Carry out simple multivariate regression analyses;\n",
    "5. Use techniques to control for covariates;\n",
    "---\n",
    "\n",
    "## Important Dates\n",
    "\n",
    "- Homework release: Fri 6 Nov 2020\n",
    "- **Homework due**: Fri 20 Nov 2020, 23:59\n",
    "- Grade release: Mon 30 Nov 2020\n",
    "\n",
    "---\n",
    "\n",
    "##  Some rules\n",
    "\n",
    "1. You are allowed to use any built-in Python library that comes with Anaconda. If you want to use an external library, you have to justify your choice.\n",
    "2. Make sure you use the data folder provided in the repository in **read-only** mode.\n",
    "3. Be sure to provide a textual description of your thought process, the assumptions you made, the solution you implemented, and explanations for your answers. A notebook that only has code cells will not suffice.\n",
    "4. For questions containing the **/Discuss:/** prefix, answer not with code, but with a textual explanation (in markdown).\n",
    "5. Back up any hypotheses and claims with data, since this is an important aspect of the course.\n",
    "6. Please write all your comments in English, and use meaningful variable names in your code. Your repo should have a single notebook (plus the required data files) in the master branch. If there are multiple notebooks present, we will **strictly** not grade anything.\n",
    "7. Also, be sure to hand in a fully-run and evaluated notebook. We will not run your notebook for you, we will grade it as is, which means that only the results contained in your evaluated code cells will be considered, and we will not see the results in unevaluated code cells. In order to check whether everything looks as intended, you can check the rendered notebook on the GitHub website once you have pushed your solution there.\n",
    "8. Make sure to print results or dataframes that confirm you have properly addressed the task.\n",
    "9. Lastly, the grading is done in the *double blind* mode, i.e., the TAs grades an anonymized version of your notebook, so make sure that your notebook **neither has your team name nor the names of the members**.\n",
    "\n",
    "## Context\n",
    "\n",
    "Publishing papers is a big part of the lives of [Ph.D. students](http://phdcomics.com/comics/archive.php?comicid=154), [post-docs](http://phdcomics.com/comics/archive.php?comicid=1744) and [professors](http://phdcomics.com/comics/archive.php?comicid=1051). \n",
    "In Computer Science, publishing happens mostly in conferences. What follows is a slight simplification of how these conferences decide which papers to accept and which papers to reject.\n",
    " \n",
    "Every year, scholars submit papers to prestigious conferences. The papers are then assigned to reviewers (usually around 3), who are other people from the same research community (respect thy neighbor!). Each reviewer weighs in on whether they believe the papers they were assigned are good or bad, and write a review, often along with a score (e.g. +3 Strong Accept, +2 Accept, +1 Weak Accept, 0 Borderline, …,  -3 Strong Reject). Then, in the end, \"special\" reviewers called, \"Area Chairs\" analyze all the reviews that were written for the same paper and decide what gets accepted and what gets rejected. Importantly, throughout this whole dance, reviewers and authors are anonymous. When you're reviewing a paper, you do not know who wrote it. And when you receive the review, you don't know who reviewed it. Because of that, we call this a double-blind reviewing process.\n",
    "\n",
    "An interesting development that has evolved in recent years is the rise of pre-prints. In previous times, researchers often exposed their research to the world only after it had been peer-reviewed and published in a conference or a journal. But recently researchers are much keener to let their ideas out into the world as soon as possible, and they publish their research before it has been approved to any conference or journal, by posting the research on so-called pre-print servers. The most common pre-print server for Computer Science, Physics, and Maths is called [arXiv](https://arxiv.org/), for Biology, an increasingly popular one is [bioRxiv](https://www.biorxiv.org/), for Psychology [psyArXiv](https://psyarxiv.com/) (they are not very creative with the names). Notice that pre-prints and peer-review are not mutually exclusive, in fact, usually, you publish your pre-print, and then you try to publish your work in a peer-reviewed setting.\n",
    "\n",
    "Overall, publishing pre-prints has many benefits. They make science more accessible and hasten the circulation of important results in the academic community. However, a big issue brought forth with pre-prints is that they often break the anonymity in the double-blind reviewing process. For instance, in machine learning, since most papers are published as pre-prints, it is often easy to figure out if the paper you are reviewing is from a famous researcher or a big company with prominent research scientists. From critics' viewpoint, knowing the authors of the papers you are reviewing can bias your reviews. If you know that a given author is famous, you'd be more inclined to take his or her word for granted. If the author is from an institution you’ve never heard about, you are more likely to doubt his or her findings.\n",
    "\n",
    "In this homework, we will take a data-driven deep dive into the world of academic publishing. Can you use your freshly acquired data-science skills to predict which papers are going to make the cut? Are your data analysis skills sharp enough to figure out whether the aforementioned concerns about pre-print issues are justified?\n",
    "\n",
    "\n",
    "## The data\n",
    "\n",
    "The data, whose source has been *\"double-blinded\"* from you, and which has been simplified a bit for the assignment, contains information about submissions to a prestigious machine learning conference called ICLR (pronounced “I-clear”). You can find the dataframe in the git repo for the homework (`./data/dataset_final.csv`). We provide a brief description of the fields you will encounter.\n",
    "\n",
    "- `year`: year the paper has been submitted to ICLR. Notice that we provide data for three years, 2018, 2019, and 2020.\n",
    "\n",
    "\n",
    "- `paper`: title of the paper.\n",
    "\n",
    "\n",
    "- `authors`: names of the authors separated by ;.\n",
    "\n",
    "\n",
    "- `ratings`: mean rating given to the paper by the reviewers.\n",
    "\n",
    "\n",
    "- `decisions`: either Accept if the paper was accepted, or Reject otherwise.\n",
    "\n",
    "\n",
    "- `institution`: institutions for each of the authors, separated by ;.\n",
    "\n",
    "\n",
    "- `csranking`: ranking of the institutions according to csrankings. The better the institution, the better the rank. Notice that, if a paper has more than 1 author, this field will contain multiple values, separated by ;. For institutions that are not in csrankings, the value will be -1.\n",
    "\n",
    "\n",
    "- `categories`: topical categories of the paper. Each number corresponds to a different category: (1) Theory, (2) Computer Vision, (3) Natural Language Processing, (4) Adversarial ML, (5) Generative Modeling, (7) Fairness, (8) Generalization, (9) Optimization, (10) Graphs, (11) Bayesian Methods, (0) Others. A paper may belong to multiple categories, separated by ;.\n",
    "\n",
    "\n",
    "- `authors_citations`: number of citations of each one of the authors, separated by ;.\n",
    "\n",
    "\n",
    "- `authors_publications`: number of publications by each one of the authors, separated by ;.\n",
    "\n",
    "\n",
    "- `authors_hindex`: h-index of each one of the authors, separated by ;. The h-index is an author-level metric that measures both the productivity and citation impact of the publications of a scientist or scholar. It is the maximum value $h$ such that the given author has published $h$ papers that have each been cited at least $h$ times.\n",
    "\n",
    "\n",
    "- `arxiv`: whether the paper was spotted in a pre-print server around the submission period.\n",
    "\n",
    "Also, notice that in this dataframe, when some piece of data was not available, -1 will be used as the value. For example, companies aren't a part of csrankings, so for people who work in big companies, the values are -1 in the field csranking.\n"
   ]
  },
  {
   "cell_type": "code",
   "execution_count": 1,
   "metadata": {},
   "outputs": [],
   "source": [
    "import pandas as pd\n",
    "import numpy as np\n",
    "import seaborn as sn\n",
    "from scipy import stats\n",
    "import matplotlib.pyplot as plt\n",
    "from sklearn.model_selection import train_test_split, KFold, cross_val_score\n",
    "from sklearn.linear_model import LogisticRegression, LinearRegression\n",
    "from sklearn import metrics\n",
    "from sklearn.ensemble import GradientBoostingRegressor\n",
    "#import math\n",
    "#from statsmodels.stats import diagnostic\n",
    "import statsmodels.api as sm\n",
    "import statsmodels.formula.api as smf\n",
    "import networkx as nx\n",
    "%matplotlib inline"
   ]
  },
  {
   "cell_type": "markdown",
   "metadata": {},
   "source": [
    "## _Step 1:_ Predicting paper ratings\n",
    "\n",
    "The first part of this homework poses a simple question: Can you predict the ratings the paper will receive given attributes related to its authors? To answer this question, we will build an ML pipeline from scratch, preprocessing the data, training a regression model, and then evaluating it.\n",
    "\n",
    "\n",
    "---\n",
    "\n",
    "### Task 1.1\n",
    "\n",
    "Some of the fields in the data are not very amenable to serve as input to traditional machine learning algorithms. Namely, we have some fields for which there are a varying number of values (e.g. papers with 3 authors will have 3 values in the `author_citations` field, papers with 5 authors will have 5).\n",
    "\n",
    "\n",
    "Your first task is to perform some feature engineering and derive unique values for each paper which you will be able to use in your ML model. \n",
    "More specifically, you must:\n",
    "\n",
    "1. Create 3 new fields in the dataframe corresponding to the median value of the number of citations per author, the number of publications per author, and the h-index per author. So for instance, for the row `authors_publications`, you will create an additional column, e.g. `authors_publications_median`, containing the median number of publications per author in each paper.\n",
    "2. Create another field entitled `reputation` capturing how famous the last author of the paper is. Notice that the last author of the paper is usually the most senior person involved in the project. This field should equal $\\log_{10}\\Big(\\frac{\\#citations}{\\#publications} + 1\\Big)$. Notice that each author in the dataset has at least 1 publication, so you don't risk dividing by 0.\n",
    "3. Create two fields called `has_top_company` and `has_top_institution`. The field `has_top_company` equals 1 if the article contains an author in the following list of companies `[\"Facebook\", \"Google\", \"Microsoft\", \"Deepmind\"]`, and 0 otherwise. The field `has_top_institution` equals 1 if the article contains an author in the top 10 institutions according to CSRankings.\n",
    "4. **Discuss:** How did you handle -1 values in item 1.1.1? Justify your approach.\n",
    "\n",
    "---"
   ]
  },
  {
   "cell_type": "markdown",
   "metadata": {},
   "source": [
    "### 1.1.1"
   ]
  },
  {
   "cell_type": "code",
   "execution_count": 2,
   "metadata": {},
   "outputs": [],
   "source": [
    "dataset = pd.read_csv('data/dataset_final.csv')"
   ]
  },
  {
   "cell_type": "code",
   "execution_count": 3,
   "metadata": {},
   "outputs": [],
   "source": [
    "publications = dataset['authors_publications'].str.split(';', expand=True)\n",
    "dataset['authors_publications_median'] = publications.where(publications != \"-1\").median(axis=1)\n",
    "\n",
    "citations = dataset['authors_citations'].str.split(';', expand=True)\n",
    "dataset['authors_citations_median'] = citations.where(citations != \"-1\").median(axis=1)\n",
    "\n",
    "hindex = dataset['authors_hindex'].str.split(';', expand=True)\n",
    "dataset['authors_hindex_median'] = hindex.where(hindex != \"-1\").median(axis=1)\n",
    "\n",
    "#dataset.head()"
   ]
  },
  {
   "cell_type": "markdown",
   "metadata": {},
   "source": [
    "### 1.1.2"
   ]
  },
  {
   "cell_type": "code",
   "execution_count": 4,
   "metadata": {},
   "outputs": [],
   "source": [
    "last_citation = []\n",
    "last_publication = []\n",
    "citations = dataset['authors_citations'].str.split(';').tolist()\n",
    "publications = dataset['authors_publications'].str.split(';').tolist()\n",
    "for i in range(len(dataset)):\n",
    "    last_citation.append(citations[i][-1])\n",
    "    last_publication.append(publications[i][-1])"
   ]
  },
  {
   "cell_type": "code",
   "execution_count": 5,
   "metadata": {},
   "outputs": [],
   "source": [
    "df_citation = pd.DataFrame(last_citation).astype(int)\n",
    "df_publication = pd.DataFrame(last_publication).astype(int)"
   ]
  },
  {
   "cell_type": "code",
   "execution_count": 6,
   "metadata": {},
   "outputs": [],
   "source": [
    "dataset['reputation'] = np.log(df_citation/df_publication+1)\n",
    "#dataset.head()"
   ]
  },
  {
   "cell_type": "markdown",
   "metadata": {},
   "source": [
    "### 1.1.3"
   ]
  },
  {
   "cell_type": "code",
   "execution_count": 7,
   "metadata": {},
   "outputs": [],
   "source": [
    "dataset['has_top_company'] = dataset['institution'].str.split(';', expand=True)\\\n",
    "                                .isin([\"Facebook\", \"Google\", \"Microsoft\", \"Deepmind\"]).any(axis=1)"
   ]
  },
  {
   "cell_type": "code",
   "execution_count": 8,
   "metadata": {},
   "outputs": [],
   "source": [
    "dataset['has_top_institution'] = dataset['csranking'].str.split(';', expand=True).isin(np.arange(1, 10).astype(str)).any(axis=1)"
   ]
  },
  {
   "cell_type": "code",
   "execution_count": 9,
   "metadata": {},
   "outputs": [
    {
     "data": {
      "text/html": [
       "<div>\n",
       "<style scoped>\n",
       "    .dataframe tbody tr th:only-of-type {\n",
       "        vertical-align: middle;\n",
       "    }\n",
       "\n",
       "    .dataframe tbody tr th {\n",
       "        vertical-align: top;\n",
       "    }\n",
       "\n",
       "    .dataframe thead th {\n",
       "        text-align: right;\n",
       "    }\n",
       "</style>\n",
       "<table border=\"1\" class=\"dataframe\">\n",
       "  <thead>\n",
       "    <tr style=\"text-align: right;\">\n",
       "      <th></th>\n",
       "      <th>year</th>\n",
       "      <th>paper</th>\n",
       "      <th>authors</th>\n",
       "      <th>ratings</th>\n",
       "      <th>decisions</th>\n",
       "      <th>institution</th>\n",
       "      <th>csranking</th>\n",
       "      <th>categories</th>\n",
       "      <th>authors_citations</th>\n",
       "      <th>authors_publications</th>\n",
       "      <th>authors_hindex</th>\n",
       "      <th>arxiv</th>\n",
       "      <th>authors_publications_median</th>\n",
       "      <th>authors_citations_median</th>\n",
       "      <th>authors_hindex_median</th>\n",
       "      <th>reputation</th>\n",
       "      <th>has_top_company</th>\n",
       "      <th>has_top_institution</th>\n",
       "    </tr>\n",
       "  </thead>\n",
       "  <tbody>\n",
       "    <tr>\n",
       "      <th>0</th>\n",
       "      <td>2018</td>\n",
       "      <td>Certifying Some Distributional Robustness with...</td>\n",
       "      <td>Aman Sinha;Hongseok Namkoong;John Duchi</td>\n",
       "      <td>9.000000</td>\n",
       "      <td>Accept</td>\n",
       "      <td>Stanford University;Stanford University;Stanfo...</td>\n",
       "      <td>4;4;4</td>\n",
       "      <td>4</td>\n",
       "      <td>655;904;12908</td>\n",
       "      <td>42;19;162</td>\n",
       "      <td>8;10;42</td>\n",
       "      <td>True</td>\n",
       "      <td>42.0</td>\n",
       "      <td>904.0</td>\n",
       "      <td>10.0</td>\n",
       "      <td>4.390478</td>\n",
       "      <td>False</td>\n",
       "      <td>True</td>\n",
       "    </tr>\n",
       "    <tr>\n",
       "      <th>1</th>\n",
       "      <td>2018</td>\n",
       "      <td>Parametric Information Bottleneck to Optimize ...</td>\n",
       "      <td>Thanh T. Nguyen;Jaesik Choi</td>\n",
       "      <td>4.666667</td>\n",
       "      <td>Reject</td>\n",
       "      <td>Ulsan National Institute of Science and Techno...</td>\n",
       "      <td>468;468</td>\n",
       "      <td>8</td>\n",
       "      <td>1052;727</td>\n",
       "      <td>86;88</td>\n",
       "      <td>16;15</td>\n",
       "      <td>False</td>\n",
       "      <td>87.0</td>\n",
       "      <td>889.5</td>\n",
       "      <td>15.5</td>\n",
       "      <td>2.225851</td>\n",
       "      <td>False</td>\n",
       "      <td>False</td>\n",
       "    </tr>\n",
       "    <tr>\n",
       "      <th>2</th>\n",
       "      <td>2018</td>\n",
       "      <td>Towards Neural Phrase-based Machine Translation</td>\n",
       "      <td>Po-Sen Huang;Chong Wang;Sitao Huang;Dengyong Z...</td>\n",
       "      <td>6.666667</td>\n",
       "      <td>Accept</td>\n",
       "      <td>Microsoft;Google;University of Illinois, Urban...</td>\n",
       "      <td>-1;-1;3;-1;-1</td>\n",
       "      <td>3;2</td>\n",
       "      <td>1718;17889;161;8800;20766</td>\n",
       "      <td>59;1045;17;78;409</td>\n",
       "      <td>17;54;7;33;63</td>\n",
       "      <td>True</td>\n",
       "      <td>78.0</td>\n",
       "      <td>8800.0</td>\n",
       "      <td>33.0</td>\n",
       "      <td>3.946861</td>\n",
       "      <td>True</td>\n",
       "      <td>True</td>\n",
       "    </tr>\n",
       "    <tr>\n",
       "      <th>3</th>\n",
       "      <td>2018</td>\n",
       "      <td>Interactive Grounded Language Acquisition and ...</td>\n",
       "      <td>Haonan Yu;Haichao Zhang;Wei Xu</td>\n",
       "      <td>6.333333</td>\n",
       "      <td>Accept</td>\n",
       "      <td>Baidu;Baidu;Baidu</td>\n",
       "      <td>-1;-1;-1</td>\n",
       "      <td>6;8</td>\n",
       "      <td>890;1382;9553</td>\n",
       "      <td>37;63;557</td>\n",
       "      <td>12;20;44</td>\n",
       "      <td>False</td>\n",
       "      <td>63.0</td>\n",
       "      <td>1382.0</td>\n",
       "      <td>20.0</td>\n",
       "      <td>2.898715</td>\n",
       "      <td>False</td>\n",
       "      <td>False</td>\n",
       "    </tr>\n",
       "    <tr>\n",
       "      <th>4</th>\n",
       "      <td>2018</td>\n",
       "      <td>A Boo(n) for Evaluating Architecture Performance</td>\n",
       "      <td>Ondrej Bajgar;Rudolf Kadlec;and Jan Kleindienst</td>\n",
       "      <td>4.666667</td>\n",
       "      <td>Reject</td>\n",
       "      <td>;International Business Machines;International...</td>\n",
       "      <td>-1;-1;-1</td>\n",
       "      <td>0</td>\n",
       "      <td>366;678;658</td>\n",
       "      <td>10;40;76</td>\n",
       "      <td>5;11;9</td>\n",
       "      <td>False</td>\n",
       "      <td>40.0</td>\n",
       "      <td>658.0</td>\n",
       "      <td>9.0</td>\n",
       "      <td>2.267776</td>\n",
       "      <td>False</td>\n",
       "      <td>False</td>\n",
       "    </tr>\n",
       "  </tbody>\n",
       "</table>\n",
       "</div>"
      ],
      "text/plain": [
       "   year                                              paper  \\\n",
       "0  2018  Certifying Some Distributional Robustness with...   \n",
       "1  2018  Parametric Information Bottleneck to Optimize ...   \n",
       "2  2018    Towards Neural Phrase-based Machine Translation   \n",
       "3  2018  Interactive Grounded Language Acquisition and ...   \n",
       "4  2018   A Boo(n) for Evaluating Architecture Performance   \n",
       "\n",
       "                                             authors   ratings decisions  \\\n",
       "0            Aman Sinha;Hongseok Namkoong;John Duchi  9.000000    Accept   \n",
       "1                        Thanh T. Nguyen;Jaesik Choi  4.666667    Reject   \n",
       "2  Po-Sen Huang;Chong Wang;Sitao Huang;Dengyong Z...  6.666667    Accept   \n",
       "3                     Haonan Yu;Haichao Zhang;Wei Xu  6.333333    Accept   \n",
       "4    Ondrej Bajgar;Rudolf Kadlec;and Jan Kleindienst  4.666667    Reject   \n",
       "\n",
       "                                         institution      csranking  \\\n",
       "0  Stanford University;Stanford University;Stanfo...          4;4;4   \n",
       "1  Ulsan National Institute of Science and Techno...        468;468   \n",
       "2  Microsoft;Google;University of Illinois, Urban...  -1;-1;3;-1;-1   \n",
       "3                                  Baidu;Baidu;Baidu       -1;-1;-1   \n",
       "4  ;International Business Machines;International...       -1;-1;-1   \n",
       "\n",
       "  categories          authors_citations authors_publications authors_hindex  \\\n",
       "0          4              655;904;12908            42;19;162        8;10;42   \n",
       "1          8                   1052;727                86;88          16;15   \n",
       "2        3;2  1718;17889;161;8800;20766    59;1045;17;78;409  17;54;7;33;63   \n",
       "3        6;8              890;1382;9553            37;63;557       12;20;44   \n",
       "4          0                366;678;658             10;40;76         5;11;9   \n",
       "\n",
       "   arxiv  authors_publications_median  authors_citations_median  \\\n",
       "0   True                         42.0                     904.0   \n",
       "1  False                         87.0                     889.5   \n",
       "2   True                         78.0                    8800.0   \n",
       "3  False                         63.0                    1382.0   \n",
       "4  False                         40.0                     658.0   \n",
       "\n",
       "   authors_hindex_median  reputation  has_top_company  has_top_institution  \n",
       "0                   10.0    4.390478            False                 True  \n",
       "1                   15.5    2.225851            False                False  \n",
       "2                   33.0    3.946861             True                 True  \n",
       "3                   20.0    2.898715            False                False  \n",
       "4                    9.0    2.267776            False                False  "
      ]
     },
     "execution_count": 9,
     "metadata": {},
     "output_type": "execute_result"
    }
   ],
   "source": [
    "dataset.head()"
   ]
  },
  {
   "cell_type": "markdown",
   "metadata": {},
   "source": [
    "Please note that we decided to not include Facebook AI Research nor Microsoft Research as top companies."
   ]
  },
  {
   "cell_type": "markdown",
   "metadata": {},
   "source": [
    "### 1.1.4"
   ]
  },
  {
   "cell_type": "markdown",
   "metadata": {},
   "source": [
    "We decided to simply not take into account the -1 when computing the median."
   ]
  },
  {
   "cell_type": "markdown",
   "metadata": {},
   "source": [
    "### Task 1.2\n",
    "\n",
    "Now that you have cleaned up your data, your next task is to divide your data into a training set and a testing set. You should do this in two ways:\n",
    "\n",
    "1. First, do it randomly. Split the data into a training set (70%) and a testing set (30%). We refer to these as \"random split\" in the subsequent tasks.\n",
    "2. Second, do it longitudinally. Use the data from 2018 and 2019 for the training set, and the data from 2020 as the testing set. We refer to these as \"longitudinal split\" in the subsequent tasks.\n"
   ]
  },
  {
   "cell_type": "markdown",
   "metadata": {},
   "source": [
    "### 1.2.1"
   ]
  },
  {
   "cell_type": "code",
   "execution_count": 10,
   "metadata": {},
   "outputs": [],
   "source": [
    "random_train, random_test = train_test_split(dataset, test_size=0.3, random_state=1)\n",
    "#output"
   ]
  },
  {
   "cell_type": "markdown",
   "metadata": {},
   "source": [
    "### 1.2.2"
   ]
  },
  {
   "cell_type": "code",
   "execution_count": 11,
   "metadata": {},
   "outputs": [],
   "source": [
    "longitudinal_train = dataset[(dataset['year'] == 2018) | (dataset['year'] == 2019)]\n",
    "longitudinal_test = dataset[dataset['year'] == 2020]\n",
    "#output"
   ]
  },
  {
   "cell_type": "markdown",
   "metadata": {},
   "source": [
    "### Task 1.3\n",
    "\n",
    "Build a Linear Regression model (use [sklearn](https://scikit-learn.org/stable/)) that predicts the score of a paper (which is in the variable ratings in the dataframe). Train it and test it using the split you previously defined. Your model should use as features:\n",
    "- Median values for the number of author citations, publications and h-indexes, as calculated in Task 1.1.1.\n",
    "\n",
    "- `reputation` of the last author, as calculated in Task 1.1.2.\n",
    "\n",
    "For the two scenarios above (random split and longitudinal split):\n",
    "\n",
    "1. Report the model $R^2$ in each case (for the testing set).\n",
    "2. **Discuss:** Hypothesize a reason why the results are different. Additionally, interpret the $R^2$ value for the longitudinal split. How can it be negative?\n",
    "3. **From now onwards (in this task and the following ones), consider only the random split.** For a given entry $X$ your model outputs a predicted score $Y'$. The difference between the real score $Y$ and the predicted score $Y'$ is called the \"residual\". Plot the distribution of your residuals for the test set. Using this distribution, estimate what is the probability that your prediction is off by more than 2-points? Provide bootstrapped confidence intervals for your answer.\n",
    "4. **Discuss:** Identify three additional features that are already computed in your dataframe and that could boost your model's predictive performance. You are not allowed to use the variable `decisions` as an input here. Before running any experiments, discuss why each of these features might add valuable information to your model.\n",
    "5. Report the $R^2$ (for the test set) for a newly trained model with these additional features. Please note that you do not need to improve the model performance to be successful in this task!\n",
    "\n",
    "**Hint**: [Metrics!](https://scikit-learn.org/stable/modules/classes.html#sklearn-metrics-metrics)"
   ]
  },
  {
   "cell_type": "markdown",
   "metadata": {},
   "source": [
    "### 1.3.1"
   ]
  },
  {
   "cell_type": "code",
   "execution_count": 12,
   "metadata": {},
   "outputs": [],
   "source": [
    "def X_y_split(train, test, features):\n",
    "    y_train = train['ratings']\n",
    "    X_train = train[features].astype(int)\n",
    "    y_test = test['ratings']\n",
    "    X_test = test[features].astype(int)\n",
    "    return X_train, X_test, y_train, y_test"
   ]
  },
  {
   "cell_type": "code",
   "execution_count": 13,
   "metadata": {},
   "outputs": [],
   "source": [
    "def regression(train, test, model, features):\n",
    "    X_train, X_test, y_train, y_test = X_y_split(train, test, features)\n",
    "    model.fit(X_train, y_train)\n",
    "    y_pred = pd.Series(model.predict(X_test))\n",
    "    print(\"R2:\", round(metrics.r2_score(y_test, y_pred),4))\n",
    "    residual = y_test - y_pred.values\n",
    "    return pd.DataFrame(residual)"
   ]
  },
  {
   "cell_type": "code",
   "execution_count": 14,
   "metadata": {},
   "outputs": [],
   "source": [
    "features = ['authors_publications_median', 'authors_citations_median', 'authors_hindex_median', 'reputation']"
   ]
  },
  {
   "cell_type": "markdown",
   "metadata": {},
   "source": [
    "### Longitudinal split"
   ]
  },
  {
   "cell_type": "code",
   "execution_count": 15,
   "metadata": {},
   "outputs": [
    {
     "name": "stdout",
     "output_type": "stream",
     "text": [
      "R2: -0.2453\n"
     ]
    }
   ],
   "source": [
    "longitudinal_residual = regression(longitudinal_train, longitudinal_test, LinearRegression(), features)"
   ]
  },
  {
   "cell_type": "markdown",
   "metadata": {},
   "source": [
    "### Random split"
   ]
  },
  {
   "cell_type": "code",
   "execution_count": 16,
   "metadata": {},
   "outputs": [
    {
     "name": "stdout",
     "output_type": "stream",
     "text": [
      "R2: 0.0835\n"
     ]
    }
   ],
   "source": [
    "random_residual = regression(random_train, random_test, LinearRegression(), features)"
   ]
  },
  {
   "cell_type": "markdown",
   "metadata": {},
   "source": [
    "### 1.3.2"
   ]
  },
  {
   "cell_type": "markdown",
   "metadata": {},
   "source": [
    "We have a negative $R^{2}$ with the longitudinal split because it generalizes poorly on the testing set. When $R^{2}$ is negative, it implies that the model has worse predictions than the baseline model which always predicts the mean of the observed data. Also, it means that the mean residuals are larger than the estimated variance of data."
   ]
  },
  {
   "cell_type": "markdown",
   "metadata": {},
   "source": [
    "### 1.3.3"
   ]
  },
  {
   "cell_type": "code",
   "execution_count": 17,
   "metadata": {},
   "outputs": [
    {
     "data": {
      "text/plain": [
       "<AxesSubplot:ylabel='Density'>"
      ]
     },
     "execution_count": 17,
     "metadata": {},
     "output_type": "execute_result"
    },
    {
     "data": {
      "image/png": "[encoded data removed]",
      "text/plain": [
       "<Figure size 432x288 with 1 Axes>"
      ]
     },
     "metadata": {
      "needs_background": "light"
     },
     "output_type": "display_data"
    },
    {
     "data": {
      "image/png": "[encoded data removed]",
      "text/plain": [
       "<Figure size 432x288 with 1 Axes>"
      ]
     },
     "metadata": {
      "needs_background": "light"
     },
     "output_type": "display_data"
    }
   ],
   "source": [
    "# keep one or the other\n",
    "random_residual.plot.hist()\n",
    "random_residual.plot.kde()"
   ]
  },
  {
   "cell_type": "code",
   "execution_count": 18,
   "metadata": {},
   "outputs": [],
   "source": [
    "def bootstrap_CI(data, nbr_draws, confidence):\n",
    "    \n",
    "    inf = (100-confidence)/2\n",
    "    sup = confidence + inf\n",
    "    means = np.zeros(nbr_draws)\n",
    "    data = np.array(data)\n",
    "\n",
    "    for n in range(nbr_draws):\n",
    "        indices = np.random.randint(0, len(data), len(data))\n",
    "        data_tmp = data[indices] \n",
    "        means[n] = np.nanmean(data_tmp)\n",
    "\n",
    "    return [np.nanpercentile(means, inf), np.nanpercentile(means, sup)]"
   ]
  },
  {
   "cell_type": "code",
   "execution_count": 19,
   "metadata": {},
   "outputs": [
    {
     "name": "stdout",
     "output_type": "stream",
     "text": [
      "Probability that the prediction is off by more than 2-points: 6.89 %\n",
      "Confidence interval for this probability: [-0.075 , 0.083]\n"
     ]
    }
   ],
   "source": [
    "print(\"Probability that the prediction is off by more than 2-points: %.2f %%\" \n",
    "      % (len(random_residual[random_residual['ratings'] > 2])/len(random_residual)*100))\n",
    "\n",
    "print(\"Confidence interval for this probability: [%.3f , %.3f]\" \n",
    "      % (bootstrap_CI(random_residual, 1000, 95)[0], bootstrap_CI(random_residual, 1000, 95)[1])) # resample 1000 instead of that"
   ]
  },
  {
   "cell_type": "markdown",
   "metadata": {},
   "source": [
    "### 1.3.4"
   ]
  },
  {
   "cell_type": "markdown",
   "metadata": {},
   "source": [
    "The previously calculated features \"has_top_company\", \"has_top_institution\" and \"arxiv\" could potentially influence the score according to two considerations:\n",
    "- People from renowned institutions and companies may be better qualified.\n",
    "- When there is a pre-print, their institution may influence the score following the pattern suggested in the homework statement."
   ]
  },
  {
   "cell_type": "markdown",
   "metadata": {},
   "source": [
    "### 1.3.5"
   ]
  },
  {
   "cell_type": "code",
   "execution_count": 20,
   "metadata": {},
   "outputs": [
    {
     "name": "stdout",
     "output_type": "stream",
     "text": [
      "R2: 0.1037\n"
     ]
    }
   ],
   "source": [
    "new_features = features + ['has_top_company', 'has_top_institution', 'arxiv']\n",
    "residual = regression(random_train, random_test, LinearRegression(), new_features)"
   ]
  },
  {
   "cell_type": "markdown",
   "metadata": {},
   "source": [
    "One should note that it's modtly the addition of the \"arxiv\" feature that crucially boosts the performance of the model:"
   ]
  },
  {
   "cell_type": "code",
   "execution_count": 21,
   "metadata": {},
   "outputs": [
    {
     "name": "stdout",
     "output_type": "stream",
     "text": [
      "R2: 0.0993\n"
     ]
    }
   ],
   "source": [
    "new_features = features + ['arxiv']\n",
    "residual = regression(random_train, random_test, LinearRegression(), new_features)"
   ]
  },
  {
   "cell_type": "markdown",
   "metadata": {},
   "source": [
    "### Task 1.4\n",
    "\n",
    "Experiment with training a different regressor, a [Gradient Boosting Regressor](https://scikit-learn.org/stable/modules/ensemble.html?highlight=xgboost#gradient-boosting). This regressor is analogous to the Gradient Boosting Classifier that you have seen in class. This model performs extremely well for a variety of tasks and is often used in machine learning competitions for tabular data (e.g., on [Kaggle](www.kaggle.com)). You must:\n",
    "\n",
    "1. Train a Gradient Boosting Regressor without specifying any parameters, e.g. `GradientBoostingRegressor().fit(X, y)`, and report its $R^2$ on the testing set. Your model should again use as features:\n",
    "    - Median values for the number of author citations, publications and h-indexes as calculated in Task 1.1.1.\n",
    "    - `reputation` of the last author, as calculated in Task 1.1.2.\n",
    "2. Create an additional feature called $crazy$, which is derived as follows. If the score  of the paper, $ratings$, is bigger than 4.96, then $crazy = 9 - ratings$, otherwise, $crazy = - ratings$. Train a Gradient Boosting Regressor to predict paper scores using only $crazy$ as a feature. Additionally, train a Linear Regression model to predict paper scores using only $crazy$ as a feature. Report the $R^2$ in the testing set.\n",
    "3. **Discuss:** Why does the Gradient Boosting Regressor perform so much better?"
   ]
  },
  {
   "cell_type": "markdown",
   "metadata": {},
   "source": [
    "### 1.4.1"
   ]
  },
  {
   "cell_type": "code",
   "execution_count": 22,
   "metadata": {},
   "outputs": [
    {
     "name": "stdout",
     "output_type": "stream",
     "text": [
      "R2: 0.0935\n"
     ]
    }
   ],
   "source": [
    "residual = regression(random_train, random_test, GradientBoostingRegressor(), features)"
   ]
  },
  {
   "cell_type": "markdown",
   "metadata": {},
   "source": [
    "### 1.4.2"
   ]
  },
  {
   "cell_type": "code",
   "execution_count": 23,
   "metadata": {},
   "outputs": [],
   "source": [
    "dataset['crazy'] = dataset['ratings']\n",
    "dataset['crazy'] = dataset['crazy'].where(dataset['crazy'] > 4.96, - dataset['crazy'])\n",
    "dataset['crazy'] = dataset['crazy'].where(dataset['crazy'] <= 4.96, 9 - dataset['crazy'])"
   ]
  },
  {
   "cell_type": "code",
   "execution_count": 24,
   "metadata": {},
   "outputs": [
    {
     "name": "stdout",
     "output_type": "stream",
     "text": [
      "R2: 0.9723\n"
     ]
    }
   ],
   "source": [
    "# Gradient Boosting Regressor\n",
    "random_train, random_test = train_test_split(dataset, test_size=0.3, random_state=1)\n",
    "residual = regression(random_train, random_test, GradientBoostingRegressor(), ['crazy'])"
   ]
  },
  {
   "cell_type": "code",
   "execution_count": 25,
   "metadata": {},
   "outputs": [
    {
     "name": "stdout",
     "output_type": "stream",
     "text": [
      "R2: 0.3918\n"
     ]
    }
   ],
   "source": [
    "# Linear Regression\n",
    "random_train, random_test = train_test_split(dataset, test_size=0.3, random_state=1)\n",
    "residual = regression(random_train, random_test, LinearRegression(), ['crazy'])"
   ]
  },
  {
   "cell_type": "markdown",
   "metadata": {},
   "source": [
    "### 1.4.3"
   ]
  },
  {
   "cell_type": "markdown",
   "metadata": {},
   "source": [
    "The crazy feature is linear in ratings which is the observed data we want to predict. Since the gradient boosting regressor uses the derivative (the negative gradient for dimension 1) of the loss function to improve the estimation it should in this case, converge quicker and be more accurate than the linear regression."
   ]
  },
  {
   "cell_type": "markdown",
   "metadata": {},
   "source": [
    "### Task 1.5\n",
    "\n",
    "Complex models often have several hyper-parameters. \n",
    "To obtain the best results, it is common-place to use a cross-validation set-up in your training data to find the best hyper-parameters, and then use it for the test set.\n",
    "\n",
    "\n",
    "1. Write modular code (i.e., a function) to divide your training data into $N$ folds and perform cross-validation.\n",
    "2.  Experiment tuning two hyper-parameters of the Gradient Boosting Regressor: `n_estimators` and `learning_rate`.\n",
    "For each possible combination of the two hyper-parameters (see below for the range of values that you should try for each hyper-parameter), train your model in a cross-validation setup with $N$=20. Report the mean $R^2$ along with the 90% CI for the 18 scenarios. Notice that you can calculate the 90% CI in a bootstrap-like fashion.\n",
    "    - `n_estimators`$ \\in  \\{ 50, 75, 100, 150, 200, 250\\}$\n",
    "    - `learning_rate`$ \\in  \\{ 0.1, 0.05, 0.01\\}$.\n",
    "3. With the best hyper-parameters obtained, train your model with the entire training set and report the $R^2$ on the testing set.\n",
    "4. **Discuss:** Why don't we tune the hyper-parameters in the testing set instead of doing cross-validation in the training set?"
   ]
  },
  {
   "cell_type": "markdown",
   "metadata": {},
   "source": [
    "### 1.5.1"
   ]
  },
  {
   "cell_type": "code",
   "execution_count": 26,
   "metadata": {},
   "outputs": [],
   "source": [
    "# N-Folds Cross Validation\n",
    "def N_folds_CV(X, y, n, model):\n",
    "    \n",
    "    cv = KFold(n_splits=n)\n",
    "    cv_clf = model\n",
    "    cv_score = []\n",
    "            \n",
    "    for train, test in cv.split(X, y):\n",
    "        cv_reg = cv_clf.fit(X.iloc[train], y.iloc[train])\n",
    "        cv_score.append(cv_reg.score(X.iloc[test], y.iloc[test]))\n",
    "                \n",
    "    R2 = np.asarray(cv_score).mean()\n",
    "            \n",
    "    return R2 "
   ]
  },
  {
   "cell_type": "markdown",
   "metadata": {},
   "source": [
    "### 1.5.2"
   ]
  },
  {
   "cell_type": "code",
   "execution_count": 27,
   "metadata": {},
   "outputs": [
    {
     "data": {
      "text/html": [
       "<div>\n",
       "<style scoped>\n",
       "    .dataframe tbody tr th:only-of-type {\n",
       "        vertical-align: middle;\n",
       "    }\n",
       "\n",
       "    .dataframe tbody tr th {\n",
       "        vertical-align: top;\n",
       "    }\n",
       "\n",
       "    .dataframe thead th {\n",
       "        text-align: right;\n",
       "    }\n",
       "</style>\n",
       "<table border=\"1\" class=\"dataframe\">\n",
       "  <thead>\n",
       "    <tr style=\"text-align: right;\">\n",
       "      <th></th>\n",
       "      <th>learning_rate</th>\n",
       "      <th>n_estimators</th>\n",
       "      <th>R2</th>\n",
       "    </tr>\n",
       "  </thead>\n",
       "  <tbody>\n",
       "    <tr>\n",
       "      <th>0</th>\n",
       "      <td>0.10</td>\n",
       "      <td>50.0</td>\n",
       "      <td>0.083059</td>\n",
       "    </tr>\n",
       "    <tr>\n",
       "      <th>1</th>\n",
       "      <td>0.10</td>\n",
       "      <td>75.0</td>\n",
       "      <td>0.075751</td>\n",
       "    </tr>\n",
       "    <tr>\n",
       "      <th>2</th>\n",
       "      <td>0.10</td>\n",
       "      <td>100.0</td>\n",
       "      <td>0.067831</td>\n",
       "    </tr>\n",
       "    <tr>\n",
       "      <th>3</th>\n",
       "      <td>0.10</td>\n",
       "      <td>150.0</td>\n",
       "      <td>0.056025</td>\n",
       "    </tr>\n",
       "    <tr>\n",
       "      <th>4</th>\n",
       "      <td>0.10</td>\n",
       "      <td>200.0</td>\n",
       "      <td>0.040872</td>\n",
       "    </tr>\n",
       "    <tr>\n",
       "      <th>5</th>\n",
       "      <td>0.10</td>\n",
       "      <td>250.0</td>\n",
       "      <td>0.028970</td>\n",
       "    </tr>\n",
       "    <tr>\n",
       "      <th>6</th>\n",
       "      <td>0.05</td>\n",
       "      <td>50.0</td>\n",
       "      <td>0.089219</td>\n",
       "    </tr>\n",
       "    <tr>\n",
       "      <th>7</th>\n",
       "      <td>0.05</td>\n",
       "      <td>75.0</td>\n",
       "      <td>0.088167</td>\n",
       "    </tr>\n",
       "    <tr>\n",
       "      <th>8</th>\n",
       "      <td>0.05</td>\n",
       "      <td>100.0</td>\n",
       "      <td>0.085125</td>\n",
       "    </tr>\n",
       "    <tr>\n",
       "      <th>9</th>\n",
       "      <td>0.05</td>\n",
       "      <td>150.0</td>\n",
       "      <td>0.077802</td>\n",
       "    </tr>\n",
       "    <tr>\n",
       "      <th>10</th>\n",
       "      <td>0.05</td>\n",
       "      <td>200.0</td>\n",
       "      <td>0.072078</td>\n",
       "    </tr>\n",
       "    <tr>\n",
       "      <th>11</th>\n",
       "      <td>0.05</td>\n",
       "      <td>250.0</td>\n",
       "      <td>0.063867</td>\n",
       "    </tr>\n",
       "    <tr>\n",
       "      <th>12</th>\n",
       "      <td>0.01</td>\n",
       "      <td>50.0</td>\n",
       "      <td>0.053182</td>\n",
       "    </tr>\n",
       "    <tr>\n",
       "      <th>13</th>\n",
       "      <td>0.01</td>\n",
       "      <td>75.0</td>\n",
       "      <td>0.067135</td>\n",
       "    </tr>\n",
       "    <tr>\n",
       "      <th>14</th>\n",
       "      <td>0.01</td>\n",
       "      <td>100.0</td>\n",
       "      <td>0.075523</td>\n",
       "    </tr>\n",
       "    <tr>\n",
       "      <th>15</th>\n",
       "      <td>0.01</td>\n",
       "      <td>150.0</td>\n",
       "      <td>0.084189</td>\n",
       "    </tr>\n",
       "    <tr>\n",
       "      <th>16</th>\n",
       "      <td>0.01</td>\n",
       "      <td>200.0</td>\n",
       "      <td>0.087350</td>\n",
       "    </tr>\n",
       "    <tr>\n",
       "      <th>17</th>\n",
       "      <td>0.01</td>\n",
       "      <td>250.0</td>\n",
       "      <td>0.087971</td>\n",
       "    </tr>\n",
       "  </tbody>\n",
       "</table>\n",
       "</div>"
      ],
      "text/plain": [
       "    learning_rate  n_estimators        R2\n",
       "0            0.10          50.0  0.083059\n",
       "1            0.10          75.0  0.075751\n",
       "2            0.10         100.0  0.067831\n",
       "3            0.10         150.0  0.056025\n",
       "4            0.10         200.0  0.040872\n",
       "5            0.10         250.0  0.028970\n",
       "6            0.05          50.0  0.089219\n",
       "7            0.05          75.0  0.088167\n",
       "8            0.05         100.0  0.085125\n",
       "9            0.05         150.0  0.077802\n",
       "10           0.05         200.0  0.072078\n",
       "11           0.05         250.0  0.063867\n",
       "12           0.01          50.0  0.053182\n",
       "13           0.01          75.0  0.067135\n",
       "14           0.01         100.0  0.075523\n",
       "15           0.01         150.0  0.084189\n",
       "16           0.01         200.0  0.087350\n",
       "17           0.01         250.0  0.087971"
      ]
     },
     "execution_count": 27,
     "metadata": {},
     "output_type": "execute_result"
    }
   ],
   "source": [
    "# I think we should use all the data so someone change this if yes\n",
    "train, test = train_test_split(dataset, test_size=0.3, random_state=1)\n",
    "X_train, X_test, y_train, y_test = X_y_split(train, test, features)\n",
    "\n",
    "learning_rate = [0.1, 0.05, 0.01]\n",
    "n_estimators  = [50, 75, 100, 150, 200, 250]\n",
    "\n",
    "p_tab = pd.DataFrame(columns=['learning_rate','n_estimators','R2'])\n",
    "    \n",
    "for l_r in learning_rate:\n",
    "    for n_e in n_estimators:\n",
    "        model = GradientBoostingRegressor(learning_rate=l_r, n_estimators=n_e)\n",
    "        # how to add this I'm not sure I understand ?\n",
    "        # CI = bootstrap_CI(..., 1000, 90) ?\n",
    "        p_tab.loc[len(p_tab)] = [l_r, n_e, N_folds_CV(X_train, y_train, 3, model)]\n",
    "\n",
    "p_tab"
   ]
  },
  {
   "cell_type": "code",
   "execution_count": 28,
   "metadata": {},
   "outputs": [
    {
     "name": "stdout",
     "output_type": "stream",
     "text": [
      "learning_rate     0.050000\n",
      "n_estimators     50.000000\n",
      "R2                0.089219\n",
      "Name: 6, dtype: float64\n"
     ]
    }
   ],
   "source": [
    "# This is the maximum R_squared and corresponding hyper parameters\n",
    "best_cv = p_tab.loc[p_tab['R2'].idxmax()]\n",
    "print(best_cv)"
   ]
  },
  {
   "cell_type": "markdown",
   "metadata": {},
   "source": [
    "### 1.5.3"
   ]
  },
  {
   "cell_type": "code",
   "execution_count": 29,
   "metadata": {},
   "outputs": [
    {
     "name": "stdout",
     "output_type": "stream",
     "text": [
      "R2: 0.1038\n"
     ]
    }
   ],
   "source": [
    "# Model using best_cv parameters\n",
    "reg = GradientBoostingRegressor(learning_rate=best_cv['learning_rate'], n_estimators=int(best_cv['n_estimators'])).fit(X_train, y_train)\n",
    "print('R2: %.4f' % reg.score(X_test, y_test))"
   ]
  },
  {
   "cell_type": "markdown",
   "metadata": {},
   "source": [
    "### 1.5.4"
   ]
  },
  {
   "cell_type": "markdown",
   "metadata": {},
   "source": [
    "We don't tune the hyper-parameter in the testing set to avoid overfitting."
   ]
  },
  {
   "cell_type": "markdown",
   "metadata": {},
   "source": [
    "## _Step 2:_ What influences papers getting accepted?\n",
    "\n",
    "Time to change hats!\n",
    "\n",
    "If before we were interested in creating an accurate regressor, now we are interested in understanding what increases the chance of papers getting accepted. \n",
    "\n",
    "Typically, in that scenario, simpler models with a clear statistical interpretation (e.g. logistic regression) yield more interesting insights.\n",
    "\n",
    "For the analysis in this and the next step, you should use [statsmodels](https://www.statsmodels.org/) (for the regressions) and [scipy](https://www.scipy.org/) (for the statistical hypothesis testing).\n"
   ]
  },
  {
   "cell_type": "markdown",
   "metadata": {},
   "source": [
    "### Task 2.1\n",
    "\n",
    "Let's warm up with some visualizations and some hypothesis testing!\n",
    "\n",
    "1. Plot the distributions of 1) ratings of papers that got accepted in 2020, 2) ratings of papers that got rejected in 2020.\n",
    "2. Select a statistical test to compare whether the mean for ratings of papers that got accepted in 2020 is significantly higher.\n",
    "3. **Discuss:** Justify why the statistical test you selected is appropriate. Interpret the test-related statistic and its p-value: concretely, what do they mean?"
   ]
  },
  {
   "cell_type": "markdown",
   "metadata": {},
   "source": [
    "### 2.1.1"
   ]
  },
  {
   "cell_type": "code",
   "execution_count": 30,
   "metadata": {},
   "outputs": [
    {
     "data": {
      "image/png": "[encoded data removed]",
      "text/plain": [
       "<Figure size 1512x504 with 3 Axes>"
      ]
     },
     "metadata": {
      "needs_background": "light"
     },
     "output_type": "display_data"
    }
   ],
   "source": [
    "# Longitudinal test contains the data for 2020 so we will use it here\n",
    "fig, axs = plt.subplots(1, 3, figsize=(21,7))\n",
    "\n",
    "# accepted papers\n",
    "sn.histplot(longitudinal_test[longitudinal_test['decisions'] == 'Accept']['ratings'], kde=True, ax=axs[0])\n",
    "axs[0].set_title('Accepted Papers Rating Distribution 2020')\n",
    "\n",
    "# refused papers\n",
    "sn.histplot(longitudinal_test[longitudinal_test['decisions'] == 'Reject']['ratings'], kde=True, ax=axs[1])\n",
    "axs[1].set_title('Refused Papers Rating Distribution 2020')\n",
    "\n",
    "# comparing both\n",
    "sn.kdeplot(data=longitudinal_test, x=\"ratings\", hue=\"decisions\", ax=axs[2])\n",
    "sn.rugplot(data=longitudinal_test, x=\"ratings\", hue=\"decisions\", ax=axs[2])\n",
    "axs[2].set_title('Papers Rating Density 2020')\n",
    "\n",
    "plt.show()"
   ]
  },
  {
   "cell_type": "markdown",
   "metadata": {},
   "source": [
    "### 2.1.2"
   ]
  },
  {
   "cell_type": "code",
   "execution_count": 31,
   "metadata": {},
   "outputs": [
    {
     "data": {
      "image/png": "[encoded data removed]",
      "text/plain": [
       "<Figure size 720x144 with 1 Axes>"
      ]
     },
     "metadata": {
      "needs_background": "light"
     },
     "output_type": "display_data"
    }
   ],
   "source": [
    "fig, ax = plt.subplots(1,figsize=(10,2))\n",
    "sn.barplot(y=\"decisions\", x=\"ratings\", data=longitudinal_test, estimator=np.mean, ax=ax)\n",
    "plt.xlim([0, 10])\n",
    "plt.show()"
   ]
  },
  {
   "cell_type": "markdown",
   "metadata": {},
   "source": [
    "- Visual inspection of 95% confidence intervals lets us see that the difference is significant (the errorbars are not overlapping)."
   ]
  },
  {
   "cell_type": "markdown",
   "metadata": {},
   "source": [
    "**Statistical test :**"
   ]
  },
  {
   "cell_type": "markdown",
   "metadata": {},
   "source": [
    "Let $\\mu_{1}$ and $\\mu_{2}$ be respectively the mean of the accepted and rejected papers in 2020.\n",
    "\n",
    "We want to conduct a statistical test to check if they are equal. \n",
    "\n",
    "That is we will consider two hypothesis:\n",
    "\n",
    "$$\n",
    "H_{0}: \\mu_{1} = \\mu_{2} \\quad \\textrm{,} \\quad H_{1}: \\mu_{1} \\neq \\mu_{2}\n",
    "$$\n",
    "\n",
    "We will conduct a two-sided t-test with a significance level of 0.05 .\n",
    "\n",
    "First, the t-test assumes the two samples have the same variance, otherwise we should use a Welch's t-test. The \"standardized difference in means\" is assumed to be following a Student's t distribution under the null hypothesis. The statistic is computed using the available data about our samples then the p-value is computed as the probability of having a more extreme t-score than the on observed (in statistic) under the null hypothesis (that we have a Student's t distribution)."
   ]
  },
  {
   "cell_type": "code",
   "execution_count": 32,
   "metadata": {},
   "outputs": [
    {
     "name": "stdout",
     "output_type": "stream",
     "text": [
      "Variance of accepted papers rating = 0.65\n",
      "Variance of rejected papers rating = 1.52\n"
     ]
    }
   ],
   "source": [
    "# We check the variance first\n",
    "accepted_papers = longitudinal_test[longitudinal_test['decisions']=='Accept']\n",
    "rejected_papers = longitudinal_test[longitudinal_test['decisions']=='Reject']\n",
    "print('Variance of accepted papers rating =', '%1.2f'%accepted_papers['ratings'].var())\n",
    "print('Variance of rejected papers rating =', '%1.2f'%rejected_papers['ratings'].var())"
   ]
  },
  {
   "cell_type": "markdown",
   "metadata": {},
   "source": [
    "We can see that the two samples have different variance, hence we will use a Welch's t-test"
   ]
  },
  {
   "cell_type": "code",
   "execution_count": 33,
   "metadata": {},
   "outputs": [
    {
     "name": "stdout",
     "output_type": "stream",
     "text": [
      "Ttest_indResult(statistic=53.56214101855919, pvalue=0.0)\n"
     ]
    }
   ],
   "source": [
    "# Performing a Welch's t-test since the variance is not the same\n",
    "print(stats.ttest_ind(accepted_papers['ratings'], rejected_papers['ratings'], equal_var=False))"
   ]
  },
  {
   "cell_type": "markdown",
   "metadata": {},
   "source": [
    "We have a p-value < 0.05, thus we can reject the null hypothesis and conclude that we have different means."
   ]
  },
  {
   "cell_type": "code",
   "execution_count": 34,
   "metadata": {},
   "outputs": [
    {
     "name": "stdout",
     "output_type": "stream",
     "text": [
      "mean accepted rating = 6.14 -- 95% CI : [6.073 , 6.195]\n",
      "mean rejected rating = 3.68 -- 95% CI : [3.619 , 3.752]\n"
     ]
    }
   ],
   "source": [
    "#Does this have any statistical meaning ? (to check)\n",
    "\n",
    "print('mean accepted rating =', '%1.2f'%accepted_papers['ratings'].mean(), '-- 95%% CI : [%.3f , %.3f]' \n",
    "      % (bootstrap_CI(accepted_papers['ratings'], 1000, 95)[0],bootstrap_CI(accepted_papers['ratings'], 1000, 95)[1]))\n",
    "\n",
    "print('mean rejected rating =', '%1.2f'%rejected_papers['ratings'].mean(), '-- 95%% CI : [%.3f , %.3f]' \n",
    "      % (bootstrap_CI(rejected_papers['ratings'], 1000, 95)[0],bootstrap_CI(rejected_papers['ratings'], 1000, 95)[1]))"
   ]
  },
  {
   "cell_type": "markdown",
   "metadata": {},
   "source": [
    "By taking just a bootsrap confidence interval of 95% of the mean we can see that $\\mu_{1}$ is considerably higher."
   ]
  },
  {
   "cell_type": "markdown",
   "metadata": {},
   "source": [
    "### 2.1.3\n",
    "Given that our problem is to compare means between two groups, it seemed natural to use a t-test.\n",
    "We have performed a Welch's t-test for having identical means under the null hypthesis and the results showed:\n",
    "- The p-value is much smaller than 0.05 thus we can reject the null hypothesis that the mean ratings for accepted and rejected papers are the same. This means that we can say with a high degree of confidence that the true difference in means is not equal to zero.\n",
    "- The value of the t-statistic is roughly 53.56, the difference between the means is significant and we checked this using bootstrap confidence intervals and visualization. We have found that indeed $\\mu_{1} > \\mu_{2}$.\n",
    "- We can conclude that the mean for ratings of papers that got accepted in 2020 is significantly higher."
   ]
  },
  {
   "cell_type": "markdown",
   "metadata": {},
   "source": [
    "### Task 2.2\n",
    "\n",
    "We will now carry out a logistic regression modeling the binary variable `decisions` as a function of the continuous variable `ratings` and an intercept. \n",
    "\n",
    "Recall that a logistic regression is a model in the form:\n",
    "\n",
    "$$\n",
    "\\log \\Big( \\frac{p}{1-p} \\Big) = b_0 + b_1x_1 + b_2x_2 + \\ldots\n",
    "$$\n",
    "\n",
    "Where $p$ is the probability of the dependent variable (here, `decisions`) being equals to 1. \n",
    "Note that $\\frac{p}{1-p}$ represents the odds of the variable, and thus, on the left-hand side we have the log-odds of the variable.\n",
    "This can be also written as:\n",
    "\n",
    "$$\n",
    "\\Big( \\frac{p}{1-p} \\Big) = e^{b_0 + b_1 x_1 + b_2 x_2 + \\ldots} =  e^{b_0} e^{b_1 x_1} e^{b_2 x_2} \\ldots\n",
    "$$\n",
    "\n",
    "Given a linear variable, say $x_1$, if we increase the value associated with this variable by a single unit, and keep everything constant, we have:\n",
    "\n",
    "$$\n",
    " e^{b_1(x_1+1)} =  e^{b_1 x_1 + b_1} = e^{b_1 x_1}e^{b_1}  \n",
    "$$\n",
    "\n",
    "This means that we multiply the odds of the outcome variable by $e^{b_1}$. Thus, let's say that $x_1$ is the average rating, and $\\beta_1$ is the associated coefficient. Also, let's assume that $\\beta_1$ equals 2. In that case, increasing the score of the paper by 1 unit is equivalent to multiplying both sides of the previous equation by $e^{b_1}$. The original equation for our model becomes:\n",
    "\n",
    "$$\n",
    "\\Big( \\frac{p}{1-p} \\Big) = e^{b_0} e^{b_1 x_1} \n",
    "$$\n",
    "$$\n",
    "\\Big( \\frac{p}{1-p} \\Big) e^{b_1}  = e^{b_0} e^{b_1 x_1} e^{b_1}\n",
    "$$\n",
    "\n",
    "Since $b_1=2$, we have that this is the same as multiplying the odds of the variable by $e^2\\approx7$. \n",
    "So for example, if a paper with a score 5 had $p=0.05$ of being approved, its odds would be $0.05/0.95\\approx0.052$. According to our model, an increase in 1-rating point would mean that the new odds would be $0.052*7\\approx0.36$. Using the odds formula  ($\\frac{p}{1-p}$), this suggests that this paper would have a chance of $0.56$ of being accepted.\n",
    "\n",
    "---\n",
    "\n",
    "This is the theory. Now, let's find out what the real world looks like.\n",
    "\n",
    "\n",
    "1. Fit a logistic regression model to our data considering as the training set all papers submitted in 2020. Your model should predict a binary variable related to decisions (which equals true if the paper was accepted and false otherwise) as a function of the paper ratings and an intercept. In mathematical notation:\n",
    "$$\n",
    "d = b_0 + r b_1\n",
    "$$\n",
    "Where $d$ is the binary variable corresponding to a decision, $r$ is a numeric variable corresponding to the rating a paper has received and $b$ are coefficients.\n",
    "Notice that here we have no testing set!\n",
    "Report the summary of your model. \n",
    "2. **Discuss:** Interpreting the coefficients of your model, calculate the probability that a paper with a score 7 will be accepted.\n"
   ]
  },
  {
   "cell_type": "markdown",
   "metadata": {},
   "source": [
    "### 2.2.1"
   ]
  },
  {
   "cell_type": "code",
   "execution_count": 35,
   "metadata": {},
   "outputs": [
    {
     "name": "stdout",
     "output_type": "stream",
     "text": [
      "Optimization terminated successfully.\n",
      "         Current function value: 0.251882\n",
      "         Iterations 8\n",
      "                           Logit Regression Results                           \n",
      "==============================================================================\n",
      "Dep. Variable:         decisions_bool   No. Observations:                 2052\n",
      "Model:                          Logit   Df Residuals:                     2050\n",
      "Method:                           MLE   Df Model:                            1\n",
      "Date:                Wed, 18 Nov 2020   Pseudo R-squ.:                  0.5913\n",
      "Time:                        20:35:57   Log-Likelihood:                -516.86\n",
      "converged:                       True   LL-Null:                       -1264.6\n",
      "Covariance Type:            nonrobust   LLR p-value:                     0.000\n",
      "==============================================================================\n",
      "                 coef    std err          z      P>|z|      [0.025      0.975]\n",
      "------------------------------------------------------------------------------\n",
      "Intercept    -12.8811      0.597    -21.574      0.000     -14.051     -11.711\n",
      "ratings        2.3672      0.110     21.438      0.000       2.151       2.584\n",
      "==============================================================================\n"
     ]
    }
   ],
   "source": [
    "# As said before, the longitudinal test is the data for 2020\n",
    "data_2020 = longitudinal_test.copy()\n",
    "\n",
    "data_2020['decisions_bool'] = data_2020['decisions'].apply(lambda x: 1 if x == 'Accept' else 0)\n",
    "\n",
    "# We fit a logistic regression model:\n",
    "mod = smf.logit(formula='decisions_bool ~ ratings', data=data_2020)\n",
    "res = mod.fit()\n",
    "print(res.summary())"
   ]
  },
  {
   "cell_type": "markdown",
   "metadata": {},
   "source": [
    "### 2.2.2"
   ]
  },
  {
   "cell_type": "code",
   "execution_count": 36,
   "metadata": {},
   "outputs": [
    {
     "data": {
      "image/png": "[encoded data removed]",
      "text/plain": [
       "<Figure size 720x360 with 2 Axes>"
      ]
     },
     "metadata": {
      "needs_background": "light"
     },
     "output_type": "display_data"
    }
   ],
   "source": [
    "# feature names\n",
    "variables = res.params.index\n",
    "# coefficients\n",
    "coefficients = res.params.values\n",
    "# p-values\n",
    "p_values = res.pvalues\n",
    "# standard errors\n",
    "standard_errors = res.bse.values\n",
    "\n",
    "# Plots of parameters and CI\n",
    "fig, axs = plt.subplots(1,2,figsize=(10,5))\n",
    "axs[0].errorbar(coefficients[:1], variables[:1], xerr= 2*standard_errors[:1], linewidth = 1,\n",
    "             linestyle = 'none',marker = 'o',markersize= 3,\n",
    "             markerfacecolor = 'black',markeredgecolor = 'black', capsize= 5)\n",
    "axs[1].errorbar(coefficients[1:], variables[1:], xerr= 2*standard_errors[1:], linewidth = 1,\n",
    "             linestyle = 'none',marker = 'o',markersize= 3,\n",
    "             markerfacecolor = 'black',markeredgecolor = 'black', capsize= 5)\n",
    "plt.show()"
   ]
  },
  {
   "cell_type": "markdown",
   "metadata": {},
   "source": [
    "### Interpretation:\n",
    "- The ratings is the only predictor next to the intercept so we can't really have a relative interpretation.\n",
    "- We can think in the following way:\n",
    "    - An increase of the rating of a paper by 1, leads on average to an increase by ~2.37 of log odds of accepting the paper and $e^{2.37}$ of the odds.\n",
    "    - Given a paper of a rating 5, it would have probability of $p=0.26$ of being accepted. Having an increase of 1 in the rating, would result in an increase of ~2.37 of log odds and $e^{2.37} \\approx 10.37$ of the odds and it would have $p=0.79$ of being accepted. "
   ]
  },
  {
   "cell_type": "code",
   "execution_count": 37,
   "metadata": {},
   "outputs": [
    {
     "name": "stdout",
     "output_type": "stream",
     "text": [
      "A paper with a rating of 5 will have a probability of 0.26 of being accepted.\n",
      "A paper with a rating of 6 will have a probability of 0.79 of being accepted.\n",
      "A paper with a rating of 7 will have a probability of 0.976 of being accepted.\n"
     ]
    }
   ],
   "source": [
    "new_x = pd.DataFrame([{'ratings': 5}])\n",
    "print('A paper with a rating of 5 will have a probability of', round(res.predict(new_x)[0],3),'of being accepted.')\n",
    "\n",
    "new_x = pd.DataFrame([{'ratings': 6}])\n",
    "print('A paper with a rating of 6 will have a probability of', round(res.predict(new_x)[0],3),'of being accepted.')\n",
    "\n",
    "new_x = pd.DataFrame([{'ratings': 7}])\n",
    "print('A paper with a rating of 7 will have a probability of', round(res.predict(new_x)[0],3),'of being accepted.')"
   ]
  },
  {
   "cell_type": "markdown",
   "metadata": {},
   "source": [
    "### Task 2.3\n",
    "\n",
    "Our model is not so interesting since the only independent variable (that is, our model' feature or predictor) is something blatantly associated with paper acceptance. Let's go further! \n",
    "\n",
    "1. Run a logistic regression with the binary decision as the dependent variable (the outcome) and using as independent variables (the features): ratings, the reputation of the last author, and whether the paper was on arxiv or not. That is, in [patsy-style formula](https://patsy.readthedocs.io/en/latest/formulas.html): `decisions ~ ratings + reputation + arxiv` (variable names do not need to be exactly these). Consider all papers submitted in 2020 as your training data.\n",
    "Notice that reputation was calculated in Task 1.1. \n",
    "2. **Discuss:** Unlike `ratings` and `reputation`, the variable `arxiv` is binary. Following the same logic as we did for continuous variables in the text of Task 2.2, interpret the meaning of this coefficient. What happens to the odds ratio if the paper was seen in arxiv? Is this effect statistically significant?"
   ]
  },
  {
   "cell_type": "markdown",
   "metadata": {},
   "source": [
    "### 2.3.1"
   ]
  },
  {
   "cell_type": "code",
   "execution_count": 38,
   "metadata": {},
   "outputs": [
    {
     "name": "stdout",
     "output_type": "stream",
     "text": [
      "Optimization terminated successfully.\n",
      "         Current function value: 0.250440\n",
      "         Iterations 8\n",
      "                           Logit Regression Results                           \n",
      "==============================================================================\n",
      "Dep. Variable:         decisions_bool   No. Observations:                 2052\n",
      "Model:                          Logit   Df Residuals:                     2048\n",
      "Method:                           MLE   Df Model:                            3\n",
      "Date:                Wed, 18 Nov 2020   Pseudo R-squ.:                  0.5936\n",
      "Time:                        20:35:58   Log-Likelihood:                -513.90\n",
      "converged:                       True   LL-Null:                       -1264.6\n",
      "Covariance Type:            nonrobust   LLR p-value:                     0.000\n",
      "====================================================================================\n",
      "                       coef    std err          z      P>|z|      [0.025      0.975]\n",
      "------------------------------------------------------------------------------------\n",
      "Intercept          -13.2261      0.634    -20.873      0.000     -14.468     -11.984\n",
      "C(arxiv)[T.True]     0.2890      0.167      1.727      0.084      -0.039       0.617\n",
      "ratings              2.3541      0.111     21.296      0.000       2.137       2.571\n",
      "reputation           0.0985      0.064      1.533      0.125      -0.027       0.224\n",
      "====================================================================================\n"
     ]
    }
   ],
   "source": [
    "# We fit a logistic regression model:\n",
    "mod = smf.logit(formula='decisions_bool ~ ratings + reputation + C(arxiv)', data=data_2020)\n",
    "res = mod.fit()\n",
    "print(res.summary())"
   ]
  },
  {
   "cell_type": "markdown",
   "metadata": {},
   "source": [
    "### 2.3.2"
   ]
  },
  {
   "cell_type": "code",
   "execution_count": 39,
   "metadata": {},
   "outputs": [
    {
     "data": {
      "image/png": "[encoded data removed]",
      "text/plain": [
       "<Figure size 432x288 with 1 Axes>"
      ]
     },
     "metadata": {
      "needs_background": "light"
     },
     "output_type": "display_data"
    }
   ],
   "source": [
    "# feature names\n",
    "variables = res.params.index\n",
    "# coefficients\n",
    "coefficients = res.params.values\n",
    "# p-values\n",
    "p_values = res.pvalues\n",
    "# standard errors\n",
    "standard_errors = res.bse.values\n",
    "\n",
    "# sort them all by coefficients\n",
    "l1, l2, l3, l4 = zip(*sorted(zip(coefficients[1:], variables[1:], standard_errors[1:], p_values[1:])))\n",
    "\n",
    "# Plots of parameters and CI\n",
    "plt.errorbar(l1, np.array(range(len(l1))), xerr= 2*np.array(l3), linewidth = 1,\n",
    "             linestyle = 'none',marker = 'o',markersize= 3,\n",
    "             markerfacecolor = 'black',markeredgecolor = 'black', capsize= 5)\n",
    "plt.vlines(0,0, len(l1), linestyle = '--')\n",
    "\n",
    "plt.yticks(range(len(l2)),l2);"
   ]
  },
  {
   "cell_type": "markdown",
   "metadata": {},
   "source": [
    "### Interpretation:\n",
    "- Ratings is a relative significant positivie predictor.\n",
    "- Arxiv does not improve our model that much and we can see that by checking its p-value (0.084 > 0.05).\n",
    "- Reputation is not a big improvement to our model neither, it has a p-value of 0.125.\n",
    "- We can interpret the coefficients in the following way:\n",
    "    - When the other predictors take mean value an increase in ratings by 1, leads on average to an increase by ~2.35 of log odds of accepting the paper and $e^{2.35}$ of the odds.\n",
    "    - If arxiv is true, then the log odds is increased by ~0.29. Given a paper that has rating 5, reputation 6.2 and doesn't have a preprint, it would have probability $p=0.3$ of being accepted. Now if it would have been on arxiv it would result in $p=0.364$ of being accepted.\n",
    "- Ratings is a much important predictor than Arxiv and Reputation and this is translated by the bigger coefficient and the p-values in the model summary."
   ]
  },
  {
   "cell_type": "code",
   "execution_count": 40,
   "metadata": {},
   "outputs": [
    {
     "name": "stdout",
     "output_type": "stream",
     "text": [
      "A paper with a rating of 5, reputation 6.2 and arxiv False will have a probability of 0.3 of being accepted.\n",
      "A paper with a rating of 5, reputation 6.2 and arxiv True will have a probability of 0.364 of being accepted.\n"
     ]
    }
   ],
   "source": [
    "new_x = pd.DataFrame([{'reputation':6.2 ,'ratings': 5,'arxiv': False}])\n",
    "print('A paper with a rating of 5, reputation 6.2 and arxiv False will have a probability of', round(res.predict(new_x)[0],3),'of being accepted.')\n",
    "new_x = pd.DataFrame([{'reputation':6.2 ,'ratings': 5,'arxiv': True}])\n",
    "print('A paper with a rating of 5, reputation 6.2 and arxiv True will have a probability of', round(res.predict(new_x)[0],3),'of being accepted.')"
   ]
  },
  {
   "cell_type": "markdown",
   "metadata": {},
   "source": [
    "### Task 2.4\n",
    "\n",
    "Let's finally move on to the question that you have been dying to answer: Do pre-prints favor top institutions? \n",
    "\n",
    "In order to (try to) answer that question, you must fit yet another logistic regression.\n",
    "\n",
    "Your regression should have the paper decision as the dependent variable, and `ratings`, `reputation`, and `arxiv` as independent variables just like in task 2.3. Yet, here, include also as independent variables the binary variable `has_top_institution`, which equals 1 if the paper has an author in a top-10 institution; and the interaction variable `arxiv:has_top_institution`, which equals one only if the paper is from a top-10 institution **and** if it appeared on arxiv before the submission deadline. In patsy-style formula your model should look something like: \n",
    "\n",
    "`decisions_bool ~ ratings + reputation + arxiv + has_top_institution + arxiv:has_top_institution`\n",
    "\n",
    "\n",
    "1. Fit this model and estimate the effect of posting on arxiv for a top institution. Again, consider only papers submitted in the 2020 edition.\n",
    "2. **Discuss:** Interpreting the p-values, discuss: is this evidence that arxiv breaks double-blind submissions?"
   ]
  },
  {
   "cell_type": "markdown",
   "metadata": {},
   "source": [
    "### 2.4.1"
   ]
  },
  {
   "cell_type": "code",
   "execution_count": 41,
   "metadata": {},
   "outputs": [
    {
     "name": "stdout",
     "output_type": "stream",
     "text": [
      "Optimization terminated successfully.\n",
      "         Current function value: 0.247332\n",
      "         Iterations 8\n",
      "                           Logit Regression Results                           \n",
      "==============================================================================\n",
      "Dep. Variable:         decisions_bool   No. Observations:                 2052\n",
      "Model:                          Logit   Df Residuals:                     2046\n",
      "Method:                           MLE   Df Model:                            5\n",
      "Date:                Wed, 18 Nov 2020   Pseudo R-squ.:                  0.5987\n",
      "Time:                        20:35:58   Log-Likelihood:                -507.52\n",
      "converged:                       True   LL-Null:                       -1264.6\n",
      "Covariance Type:            nonrobust   LLR p-value:                     0.000\n",
      "=============================================================================================================\n",
      "                                                coef    std err          z      P>|z|      [0.025      0.975]\n",
      "-------------------------------------------------------------------------------------------------------------\n",
      "Intercept                                   -13.3866      0.647    -20.699      0.000     -14.654     -12.119\n",
      "arxiv[T.True]                                 0.1154      0.198      0.582      0.560      -0.273       0.504\n",
      "has_top_institution[T.True]                   0.3703      0.228      1.627      0.104      -0.076       0.817\n",
      "arxiv[T.True]:has_top_institution[T.True]     0.5905      0.376      1.570      0.116      -0.147       1.328\n",
      "ratings                                       2.3822      0.113     21.158      0.000       2.162       2.603\n",
      "reputation                                    0.0706      0.065      1.087      0.277      -0.057       0.198\n",
      "=============================================================================================================\n"
     ]
    }
   ],
   "source": [
    "data = data_2020.copy()\n",
    "\n",
    "# We fit a logistic regression model:\n",
    "mod = smf.logit(formula='decisions_bool ~ ratings + reputation + arxiv \\\n",
    "    + has_top_institution + arxiv:has_top_institution', data=data)\n",
    "res = mod.fit()\n",
    "print(res.summary())"
   ]
  },
  {
   "cell_type": "markdown",
   "metadata": {},
   "source": [
    "### 2.4.2"
   ]
  },
  {
   "cell_type": "code",
   "execution_count": 42,
   "metadata": {},
   "outputs": [
    {
     "data": {
      "image/png": "[encoded data removed]",
      "text/plain": [
       "<Figure size 432x288 with 1 Axes>"
      ]
     },
     "metadata": {
      "needs_background": "light"
     },
     "output_type": "display_data"
    }
   ],
   "source": [
    "# feature names\n",
    "variables = res.params.index\n",
    "# coefficients\n",
    "coefficients = res.params.values\n",
    "# p-values\n",
    "p_values = res.pvalues\n",
    "# standard errors\n",
    "standard_errors = res.bse.values\n",
    "# sort them all by coefficients\n",
    "l1, l2, l3, l4 = zip(*sorted(zip(coefficients[1:], variables[1:], standard_errors[1:], p_values[1:])))\n",
    "\n",
    "# Plot of parameters and CI\n",
    "plt.errorbar(l1, np.array(range(len(l1))), xerr= 2*np.array(l3), linewidth = 1,\n",
    "             linestyle = 'none',marker = 'o',markersize= 3,\n",
    "             markerfacecolor = 'black',markeredgecolor = 'black', capsize= 5)\n",
    "plt.vlines(0,0, len(l1), linestyle = '--')\n",
    "plt.yticks(range(len(l2)),l2);"
   ]
  },
  {
   "cell_type": "markdown",
   "metadata": {},
   "source": [
    "### Interpretation:\n",
    "As a first interpretation, we could say only the ratings is a significant predictor for \n",
    "interpret p-value and conclude about the impact of non double-blind submissions.\n"
   ]
  },
  {
   "cell_type": "markdown",
   "metadata": {},
   "source": [
    "## Step 3: Matching\n",
    "\n",
    "Okay, so let's change hats one last time.\n",
    "\n",
    "As you have all seen in class, a particularly powerful way of disentangling causal effects from observational data is through matching: making sure we are not comparing apples to oranges.\n",
    "\n",
    "\n",
    "### Task 3.1\n",
    "\n",
    "One of the ways to do matching is called \"Propensity Score Matching.\" There, we calculate a *propensity score* for each subject which represents the propensity to receive a \"treatment.\" Then, we match subjects who received and did not receive the treatment, but that had similar propensity scores (that is, even though some received the treatment and some did not, they had similar chances to receive it).\n",
    "\n",
    "In our specific case, we can further attempt to study the impact of pre-prints by considering publishing to arxiv as our \"treatment\".\n",
    "\n",
    "In that context, the first step to perform propensity score matching is to create a classifier that predicts whether a paper was published on arxiv or not.\n",
    "\n",
    "1. We have trained this classifier for you (don't get spoiled!). You may load the pandas dataframe entitled `propensity_scores.csv.gz` from the github repo. \n",
    "Notice that we will be using only the articles published in 2020. \n",
    "Create a new dataframe that is a merged version of this new dataframe with the dataframe you have been working on so far. Remember to keep only the papers published in 2020!\n",
    "2. **Discuss:** In which way is this classifier (that is a classifier trained to estimate propensity scores) different from the previous classifier that you trained in Step 1?\n",
    "\n",
    "**Hint:** For a classifier tra we don't need a training set and a test set!\n"
   ]
  },
  {
   "cell_type": "markdown",
   "metadata": {},
   "source": [
    "### 3.1.1"
   ]
  },
  {
   "cell_type": "code",
   "execution_count": 43,
   "metadata": {},
   "outputs": [
    {
     "data": {
      "text/html": [
       "<div>\n",
       "<style scoped>\n",
       "    .dataframe tbody tr th:only-of-type {\n",
       "        vertical-align: middle;\n",
       "    }\n",
       "\n",
       "    .dataframe tbody tr th {\n",
       "        vertical-align: top;\n",
       "    }\n",
       "\n",
       "    .dataframe thead th {\n",
       "        text-align: right;\n",
       "    }\n",
       "</style>\n",
       "<table border=\"1\" class=\"dataframe\">\n",
       "  <thead>\n",
       "    <tr style=\"text-align: right;\">\n",
       "      <th></th>\n",
       "      <th>paper</th>\n",
       "      <th>propensity_score</th>\n",
       "    </tr>\n",
       "  </thead>\n",
       "  <tbody>\n",
       "    <tr>\n",
       "      <th>0</th>\n",
       "      <td>Pitfalls of In-Domain Uncertainty Estimation a...</td>\n",
       "      <td>0.360486</td>\n",
       "    </tr>\n",
       "    <tr>\n",
       "      <th>1</th>\n",
       "      <td>An Inductive Bias for Distances: Neural Nets t...</td>\n",
       "      <td>0.567842</td>\n",
       "    </tr>\n",
       "    <tr>\n",
       "      <th>2</th>\n",
       "      <td>Stochastic AUC Maximization with Deep Neural N...</td>\n",
       "      <td>0.334322</td>\n",
       "    </tr>\n",
       "    <tr>\n",
       "      <th>3</th>\n",
       "      <td>On the interaction between supervision and sel...</td>\n",
       "      <td>0.402644</td>\n",
       "    </tr>\n",
       "    <tr>\n",
       "      <th>4</th>\n",
       "      <td>Towards Better Understanding of Adaptive Gradi...</td>\n",
       "      <td>0.334322</td>\n",
       "    </tr>\n",
       "    <tr>\n",
       "      <th>...</th>\n",
       "      <td>...</td>\n",
       "      <td>...</td>\n",
       "    </tr>\n",
       "    <tr>\n",
       "      <th>2047</th>\n",
       "      <td>A Finite-Time Analysis of  Q-Learning with Neu...</td>\n",
       "      <td>0.306323</td>\n",
       "    </tr>\n",
       "    <tr>\n",
       "      <th>2048</th>\n",
       "      <td>SCELMo: Source Code Embeddings from Language M...</td>\n",
       "      <td>0.219910</td>\n",
       "    </tr>\n",
       "    <tr>\n",
       "      <th>2049</th>\n",
       "      <td>GraphMix: Regularized Training of Graph Neural...</td>\n",
       "      <td>0.208421</td>\n",
       "    </tr>\n",
       "    <tr>\n",
       "      <th>2050</th>\n",
       "      <td>Neural networks with motivation</td>\n",
       "      <td>0.213840</td>\n",
       "    </tr>\n",
       "    <tr>\n",
       "      <th>2051</th>\n",
       "      <td>Measuring causal influence with back-to-back r...</td>\n",
       "      <td>0.304699</td>\n",
       "    </tr>\n",
       "  </tbody>\n",
       "</table>\n",
       "<p>2052 rows × 2 columns</p>\n",
       "</div>"
      ],
      "text/plain": [
       "                                                  paper  propensity_score\n",
       "0     Pitfalls of In-Domain Uncertainty Estimation a...          0.360486\n",
       "1     An Inductive Bias for Distances: Neural Nets t...          0.567842\n",
       "2     Stochastic AUC Maximization with Deep Neural N...          0.334322\n",
       "3     On the interaction between supervision and sel...          0.402644\n",
       "4     Towards Better Understanding of Adaptive Gradi...          0.334322\n",
       "...                                                 ...               ...\n",
       "2047  A Finite-Time Analysis of  Q-Learning with Neu...          0.306323\n",
       "2048  SCELMo: Source Code Embeddings from Language M...          0.219910\n",
       "2049  GraphMix: Regularized Training of Graph Neural...          0.208421\n",
       "2050                    Neural networks with motivation          0.213840\n",
       "2051  Measuring causal influence with back-to-back r...          0.304699\n",
       "\n",
       "[2052 rows x 2 columns]"
      ]
     },
     "execution_count": 43,
     "metadata": {},
     "output_type": "execute_result"
    }
   ],
   "source": [
    "propensity = pd.read_csv('data/propensity_scores.csv.gz', compression='gzip')\n",
    "propensity"
   ]
  },
  {
   "cell_type": "code",
   "execution_count": 44,
   "metadata": {},
   "outputs": [
    {
     "data": {
      "text/html": [
       "<div>\n",
       "<style scoped>\n",
       "    .dataframe tbody tr th:only-of-type {\n",
       "        vertical-align: middle;\n",
       "    }\n",
       "\n",
       "    .dataframe tbody tr th {\n",
       "        vertical-align: top;\n",
       "    }\n",
       "\n",
       "    .dataframe thead th {\n",
       "        text-align: right;\n",
       "    }\n",
       "</style>\n",
       "<table border=\"1\" class=\"dataframe\">\n",
       "  <thead>\n",
       "    <tr style=\"text-align: right;\">\n",
       "      <th></th>\n",
       "      <th>year</th>\n",
       "      <th>paper</th>\n",
       "      <th>authors</th>\n",
       "      <th>ratings</th>\n",
       "      <th>decisions</th>\n",
       "      <th>institution</th>\n",
       "      <th>csranking</th>\n",
       "      <th>categories</th>\n",
       "      <th>authors_citations</th>\n",
       "      <th>authors_publications</th>\n",
       "      <th>authors_hindex</th>\n",
       "      <th>arxiv</th>\n",
       "      <th>authors_publications_median</th>\n",
       "      <th>authors_citations_median</th>\n",
       "      <th>authors_hindex_median</th>\n",
       "      <th>reputation</th>\n",
       "      <th>has_top_company</th>\n",
       "      <th>has_top_institution</th>\n",
       "      <th>propensity_score</th>\n",
       "    </tr>\n",
       "  </thead>\n",
       "  <tbody>\n",
       "    <tr>\n",
       "      <th>2204</th>\n",
       "      <td>2020</td>\n",
       "      <td>Pitfalls of In-Domain Uncertainty Estimation a...</td>\n",
       "      <td>Arsenii Ashukha;Alexander Lyzhov;Dmitry Molcha...</td>\n",
       "      <td>6.666667</td>\n",
       "      <td>Accept</td>\n",
       "      <td>Samsung;Skolkovo Institute of Science and Tech...</td>\n",
       "      <td>-1;-1;-1;481</td>\n",
       "      <td>0</td>\n",
       "      <td>488;12;481;2097</td>\n",
       "      <td>14;2;17;124</td>\n",
       "      <td>8;1;7;16</td>\n",
       "      <td>False</td>\n",
       "      <td>15.5</td>\n",
       "      <td>484.5</td>\n",
       "      <td>7.5</td>\n",
       "      <td>2.885431</td>\n",
       "      <td>False</td>\n",
       "      <td>False</td>\n",
       "      <td>0.360486</td>\n",
       "    </tr>\n",
       "    <tr>\n",
       "      <th>2205</th>\n",
       "      <td>2020</td>\n",
       "      <td>An Inductive Bias for Distances: Neural Nets t...</td>\n",
       "      <td>Silviu Pitis;Harris Chan;Kiarash Jamali;Jimmy Ba</td>\n",
       "      <td>6.750000</td>\n",
       "      <td>Accept</td>\n",
       "      <td>Department of Computer Science, University of ...</td>\n",
       "      <td>18;18;18;18</td>\n",
       "      <td>1;10</td>\n",
       "      <td>15;23;3;52924</td>\n",
       "      <td>9;13;3;56</td>\n",
       "      <td>2;3;1;22</td>\n",
       "      <td>False</td>\n",
       "      <td>11.0</td>\n",
       "      <td>19.0</td>\n",
       "      <td>2.5</td>\n",
       "      <td>6.852318</td>\n",
       "      <td>False</td>\n",
       "      <td>False</td>\n",
       "      <td>0.567842</td>\n",
       "    </tr>\n",
       "    <tr>\n",
       "      <th>2206</th>\n",
       "      <td>2020</td>\n",
       "      <td>Stochastic AUC Maximization with Deep Neural N...</td>\n",
       "      <td>Mingrui Liu;Zhuoning Yuan;Yiming Ying;Tianbao ...</td>\n",
       "      <td>6.000000</td>\n",
       "      <td>Accept</td>\n",
       "      <td>University of Iowa;University of Iowa;State Un...</td>\n",
       "      <td>154;154;266;154</td>\n",
       "      <td>9</td>\n",
       "      <td>238;112;2144;3236</td>\n",
       "      <td>29;12;64;187</td>\n",
       "      <td>9;4;24;29</td>\n",
       "      <td>True</td>\n",
       "      <td>46.5</td>\n",
       "      <td>1191.0</td>\n",
       "      <td>16.5</td>\n",
       "      <td>2.907164</td>\n",
       "      <td>False</td>\n",
       "      <td>False</td>\n",
       "      <td>0.334322</td>\n",
       "    </tr>\n",
       "    <tr>\n",
       "      <th>2207</th>\n",
       "      <td>2020</td>\n",
       "      <td>On the interaction between supervision and sel...</td>\n",
       "      <td>Ryan Lowe*;Abhinav Gupta*;Jakob Foerster;Douwe...</td>\n",
       "      <td>6.666667</td>\n",
       "      <td>Accept</td>\n",
       "      <td>McGill University;University of Montreal;Faceb...</td>\n",
       "      <td>86;128;-1;-1;86</td>\n",
       "      <td>3</td>\n",
       "      <td>3343;36;2107;3454;11328</td>\n",
       "      <td>53;10;58;80;267</td>\n",
       "      <td>17;3;19;29;46</td>\n",
       "      <td>False</td>\n",
       "      <td>58.0</td>\n",
       "      <td>3343.0</td>\n",
       "      <td>19.0</td>\n",
       "      <td>3.771081</td>\n",
       "      <td>True</td>\n",
       "      <td>False</td>\n",
       "      <td>0.402644</td>\n",
       "    </tr>\n",
       "  </tbody>\n",
       "</table>\n",
       "</div>"
      ],
      "text/plain": [
       "      year                                              paper  \\\n",
       "2204  2020  Pitfalls of In-Domain Uncertainty Estimation a...   \n",
       "2205  2020  An Inductive Bias for Distances: Neural Nets t...   \n",
       "2206  2020  Stochastic AUC Maximization with Deep Neural N...   \n",
       "2207  2020  On the interaction between supervision and sel...   \n",
       "\n",
       "                                                authors   ratings decisions  \\\n",
       "2204  Arsenii Ashukha;Alexander Lyzhov;Dmitry Molcha...  6.666667    Accept   \n",
       "2205   Silviu Pitis;Harris Chan;Kiarash Jamali;Jimmy Ba  6.750000    Accept   \n",
       "2206  Mingrui Liu;Zhuoning Yuan;Yiming Ying;Tianbao ...  6.000000    Accept   \n",
       "2207  Ryan Lowe*;Abhinav Gupta*;Jakob Foerster;Douwe...  6.666667    Accept   \n",
       "\n",
       "                                            institution        csranking  \\\n",
       "2204  Samsung;Skolkovo Institute of Science and Tech...     -1;-1;-1;481   \n",
       "2205  Department of Computer Science, University of ...      18;18;18;18   \n",
       "2206  University of Iowa;University of Iowa;State Un...  154;154;266;154   \n",
       "2207  McGill University;University of Montreal;Faceb...  86;128;-1;-1;86   \n",
       "\n",
       "     categories        authors_citations authors_publications authors_hindex  \\\n",
       "2204          0          488;12;481;2097          14;2;17;124       8;1;7;16   \n",
       "2205       1;10            15;23;3;52924            9;13;3;56       2;3;1;22   \n",
       "2206          9        238;112;2144;3236         29;12;64;187      9;4;24;29   \n",
       "2207          3  3343;36;2107;3454;11328      53;10;58;80;267  17;3;19;29;46   \n",
       "\n",
       "      arxiv  authors_publications_median  authors_citations_median  \\\n",
       "2204  False                         15.5                     484.5   \n",
       "2205  False                         11.0                      19.0   \n",
       "2206   True                         46.5                    1191.0   \n",
       "2207  False                         58.0                    3343.0   \n",
       "\n",
       "      authors_hindex_median  reputation  has_top_company  has_top_institution  \\\n",
       "2204                    7.5    2.885431            False                False   \n",
       "2205                    2.5    6.852318            False                False   \n",
       "2206                   16.5    2.907164            False                False   \n",
       "2207                   19.0    3.771081             True                False   \n",
       "\n",
       "      propensity_score  \n",
       "2204          0.360486  \n",
       "2205          0.567842  \n",
       "2206          0.334322  \n",
       "2207          0.402644  "
      ]
     },
     "execution_count": 44,
     "metadata": {},
     "output_type": "execute_result"
    }
   ],
   "source": [
    "# adding propensity scores to data \n",
    "dataset_2020 = longitudinal_test.copy()\n",
    "merged_data = dataset_2020.join(propensity.set_index('paper'), on='paper')\n",
    "merged_data.head(4)"
   ]
  },
  {
   "cell_type": "markdown",
   "metadata": {},
   "source": [
    "### 3.1.2"
   ]
  },
  {
   "cell_type": "markdown",
   "metadata": {},
   "source": []
  },
  {
   "cell_type": "markdown",
   "metadata": {},
   "source": [
    "### Task 3.2\n",
    "\n",
    "Now is time to match users! You will be implementing a technique called *caliper matching*. \n",
    "\n",
    "Create pairs of users as follows. For each treated subject (here a paper that was submitted to arxiv), find a non-treated subject (a paper that was not submitted to arxiv) with similar propensity score. Namely, if the propensity score of the treated unit is $p_t$, you must find a non-treated unit $p_c$ with propensity score $|p_{c} - p_t| < \\epsilon$. If there is no such a non-treated unit, you may ignore the treated unit and move forward with the matching. Notice that your output must be a 1-to-1 matching. So each paper can only be matched once.\n",
    "\n",
    "1. Perform this matching procedure using $\\epsilon = 0.05$.\n",
    "2. Report how many pairs did you manage to match? How many didn't you?"
   ]
  },
  {
   "cell_type": "markdown",
   "metadata": {},
   "source": [
    "### 3.2.1"
   ]
  },
  {
   "cell_type": "code",
   "execution_count": 45,
   "metadata": {},
   "outputs": [],
   "source": [
    "eps = 0.05\n",
    "\n",
    "G = nx.Graph() \n",
    "\n",
    "for treated in merged_data[merged_data['arxiv']==True].iterrows():\n",
    "    for non_treated in merged_data[merged_data['arxiv']==False].iterrows():\n",
    "        similarity = np.abs(treated[1]['propensity_score']-non_treated[1]['propensity_score'])\n",
    "        if(similarity < eps):\n",
    "            G.add_edges_from([(treated[0], non_treated[0])])\n",
    "            \n",
    "matching = nx.maximal_matching(G)"
   ]
  },
  {
   "cell_type": "markdown",
   "metadata": {},
   "source": [
    "### 3.2.2"
   ]
  },
  {
   "cell_type": "code",
   "execution_count": 46,
   "metadata": {},
   "outputs": [
    {
     "name": "stdout",
     "output_type": "stream",
     "text": [
      "Number of matched papers = 1180 ( 590 pairs )\n",
      "Number of non matched papers = 872\n"
     ]
    }
   ],
   "source": [
    "from itertools import chain\n",
    "\n",
    "new_sample = sorted(chain(*matching))       \n",
    "\n",
    "print('Number of matched papers =', len(new_sample), '(', int(len(new_sample)/2), 'pairs )')\n",
    "print('Number of non matched papers =', len(merged_data)-len(new_sample))"
   ]
  },
  {
   "cell_type": "markdown",
   "metadata": {
    "pycharm": {
     "name": "#%% md\n"
    }
   },
   "source": [
    "### Task 3.3\n",
    "\n",
    "Let's evaluate your matching! There are more rigorous ways to do it, but we'll go the easy path.\n",
    "\n",
    "\n",
    "1. Using one or several appropriate plot types, visualize the distributions of the variables reputation and ratings, for treated and non-treated subjects that you matched.\n",
    "2. Visualize the distributions of these variables for all papers from 2020 that appeared on arxiv, and all papers that did not (including those you did not manage to match).\n",
    "3. **Discuss:** According to your visual analysis (no statistical tests needed here), did the matching do a good job at balancing covariates?"
   ]
  },
  {
   "cell_type": "markdown",
   "metadata": {},
   "source": [
    "### 3.3.1"
   ]
  },
  {
   "cell_type": "code",
   "execution_count": 47,
   "metadata": {},
   "outputs": [
    {
     "data": {
      "image/png": "[encoded data removed]",
      "text/plain": [
       "<Figure size 1080x360 with 2 Axes>"
      ]
     },
     "metadata": {
      "needs_background": "light"
     },
     "output_type": "display_data"
    }
   ],
   "source": [
    "# Visualizing the distributions of the variables reputation and ratings for matched sample\n",
    "fig, axs = plt.subplots(1, 2, figsize=(15,5))\n",
    "\n",
    "sn.histplot(x='ratings', hue='arxiv', data=merged_data.loc[new_sample], kde=True, multiple='stack', ax=axs[0])\n",
    "axs[0].set_title('Ratings Distribution 2020')\n",
    "\n",
    "sn.histplot(x='reputation', hue='arxiv', data=merged_data.loc[new_sample], kde=True, multiple='stack', ax=axs[1])\n",
    "axs[1].set_title('Reputation Distribution 2020')\n",
    "\n",
    "plt.show()"
   ]
  },
  {
   "cell_type": "markdown",
   "metadata": {},
   "source": [
    "### 3.3.2"
   ]
  },
  {
   "cell_type": "code",
   "execution_count": 48,
   "metadata": {},
   "outputs": [
    {
     "data": {
      "image/png": "[encoded data removed]",
      "text/plain": [
       "<Figure size 1080x360 with 2 Axes>"
      ]
     },
     "metadata": {
      "needs_background": "light"
     },
     "output_type": "display_data"
    }
   ],
   "source": [
    "# Visualizing the distributions of the variables reputation and ratings for all papers of 2020\n",
    "fig, axs = plt.subplots(1, 2, figsize=(15,5))\n",
    "\n",
    "sn.histplot(x='ratings', hue='arxiv', data=merged_data, kde=True, multiple='stack', ax=axs[0])\n",
    "axs[0].set_title('Ratings Distribution 2020')\n",
    "\n",
    "sn.histplot(x='reputation', hue='arxiv', data=merged_data, kde=True, multiple='stack', ax=axs[1])\n",
    "axs[1].set_title('Reputation Distribution 2020')\n",
    "\n",
    "plt.show()"
   ]
  },
  {
   "cell_type": "markdown",
   "metadata": {},
   "source": [
    "### 3.3.3"
   ]
  },
  {
   "cell_type": "code",
   "execution_count": null,
   "metadata": {
    "pycharm": {
     "name": "#%%\n"
    }
   },
   "outputs": [],
   "source": []
  },
  {
   "cell_type": "markdown",
   "metadata": {
    "pycharm": {
     "name": "#%% md\n"
    }
   },
   "source": [
    "### Task 3.4\n",
    "\n",
    "Finally, it's time to estimate the treatment effect. Given that we have pairs of matched samples, one that received treatment and one that did not, and that they have associated outcomes $y_{treat}$ and $y_{\\neg treat}$. We can calculate the average treatment effect as:\n",
    "\n",
    "$$\n",
    "ATE = \\frac{1}{N} \\sum_i^N  y_{treat}^{(i)} - y_{\\neg treat}^{(i)}\n",
    "$$\n",
    "\n",
    "Notice that here the outcome is a simple binary variable which equals 1 if the paper has been accepted and equals 0 if the paper has been rejected, and $N$ is the total number of matched samples in our analysis.\n",
    "\n",
    "According to your matched sample, estimate the treatment effect of publishing a paper on arxiv. Report the 95% CI through bootstrapping.\n"
   ]
  },
  {
   "cell_type": "code",
   "execution_count": 49,
   "metadata": {
    "pycharm": {
     "name": "#%%\n"
    }
   },
   "outputs": [
    {
     "name": "stdout",
     "output_type": "stream",
     "text": [
      "Average Treatment Effect (ATE) is 0.0915\n"
     ]
    }
   ],
   "source": [
    "matching_pairs = list(matching)\n",
    "\n",
    "ATE = 0\n",
    "\n",
    "for treated, non_treated in matching_pairs:\n",
    "    y_treat = int(merged_data.loc[treated]['decisions'] == 'Accept')\n",
    "    y_n_treat = int(merged_data.loc[non_treated]['decisions'] == 'Accept')\n",
    "    ATE += y_treat - y_n_treat\n",
    "\n",
    "ATE = ATE/len(matching_pairs)\n",
    "    \n",
    "print('Average Treatment Effect (ATE) is %.4f' % ATE)"
   ]
  },
  {
   "cell_type": "markdown",
   "metadata": {
    "pycharm": {
     "name": "#%% md\n"
    }
   },
   "source": [
    "### Task 3.5\n",
    "\n",
    "Wait, but what about prestigious institutions? \n",
    "\n",
    "1.  To understand what is going on there, repeat tasks 3.2 to 3.4 considering *only* the top 10 institutions. Notice that you can use the same propensity scores and re-do the steps in a reduced dataframe containing only top-institutions.\n",
    "2. **Discuss:** Is this evidence that arxiv breaks double-blind submissions?"
   ]
  },
  {
   "cell_type": "code",
   "execution_count": 51,
   "metadata": {},
   "outputs": [
    {
     "name": "stdout",
     "output_type": "stream",
     "text": [
      "Number of matched papers = 298 ( 149 pairs )\n",
      "Number of non matched papers = 186\n"
     ]
    }
   ],
   "source": [
    "# Modifying merged_data to use copy-paste ...\n",
    "merged_data = merged_data[merged_data['has_top_institution']==True]\n",
    "\n",
    "# Matching\n",
    "eps = 0.05\n",
    "\n",
    "G = nx.Graph() \n",
    "\n",
    "for treated in merged_data[merged_data['arxiv']==True].iterrows():\n",
    "    for non_treated in merged_data[merged_data['arxiv']==False].iterrows():\n",
    "        similarity = np.abs(treated[1]['propensity_score']-non_treated[1]['propensity_score'])\n",
    "        if(similarity < eps):\n",
    "            G.add_edges_from([(treated[0], non_treated[0])])\n",
    "            \n",
    "matching = nx.maximal_matching(G)\n",
    "\n",
    "\n",
    "# new sample from matching\n",
    "new_sample = sorted(chain(*matching))       \n",
    "\n",
    "print('Number of matched papers =', len(new_sample), '(', int(len(new_sample)/2), 'pairs )')\n",
    "print('Number of non matched papers =', len(merged_data)-len(new_sample))"
   ]
  },
  {
   "cell_type": "code",
   "execution_count": 52,
   "metadata": {},
   "outputs": [
    {
     "data": {
      "image/png": "[encoded data removed]",
      "text/plain": [
       "<Figure size 1080x360 with 2 Axes>"
      ]
     },
     "metadata": {
      "needs_background": "light"
     },
     "output_type": "display_data"
    }
   ],
   "source": [
    "# Visualizing the distributions of the variables reputation and ratings for matched sample\n",
    "fig, axs = plt.subplots(1, 2, figsize=(15,5))\n",
    "\n",
    "sn.histplot(x='ratings', hue='arxiv', data=merged_data.loc[new_sample], kde=True, multiple='stack', ax=axs[0])\n",
    "axs[0].set_title('Ratings Distribution 2020')\n",
    "\n",
    "sn.histplot(x='reputation', hue='arxiv', data=merged_data.loc[new_sample], kde=True, multiple='stack', ax=axs[1])\n",
    "axs[1].set_title('Reputation Distribution 2020')\n",
    "\n",
    "plt.show()"
   ]
  },
  {
   "cell_type": "code",
   "execution_count": 53,
   "metadata": {},
   "outputs": [
    {
     "name": "stdout",
     "output_type": "stream",
     "text": [
      "Average Treatment Effect (ATE) for top institutions is 0.0403\n"
     ]
    }
   ],
   "source": [
    "matching_pairs = list(matching)\n",
    "\n",
    "ATE = 0\n",
    "\n",
    "for treated, non_treated in matching_pairs:\n",
    "    y_treat = int(merged_data.loc[treated]['decisions'] == 'Accept')\n",
    "    y_n_treat = int(merged_data.loc[non_treated]['decisions'] == 'Accept')\n",
    "    ATE += y_treat - y_n_treat\n",
    "\n",
    "ATE = ATE/len(matching_pairs)\n",
    "    \n",
    "print('Average Treatment Effect (ATE) for top institutions is %.4f' % ATE)"
   ]
  },
  {
   "cell_type": "code",
   "execution_count": null,
   "metadata": {},
   "outputs": [],
   "source": []
  }
 ],
 "metadata": {
  "kernelspec": {
   "display_name": "Python 3",
   "language": "python",
   "name": "python3"
  },
  "language_info": {
   "codemirror_mode": {
    "name": "ipython",
    "version": 3
   },
   "file_extension": ".py",
   "mimetype": "text/x-python",
   "name": "python",
   "nbconvert_exporter": "python",
   "pygments_lexer": "ipython3",
   "version": "3.8.5"
  },
  "pycharm": {
   "stem_cell": {
    "cell_type": "raw",
    "metadata": {
     "collapsed": false
    },
    "source": []
   }
  }
 },
 "nbformat": 4,
 "nbformat_minor": 4
}
